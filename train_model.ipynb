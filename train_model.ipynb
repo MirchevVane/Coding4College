{
 "cells": [
  {
   "cell_type": "markdown",
   "metadata": {},
   "source": [
    "# Road Follower - Train Model\n",
    "\n",
    "In this notebook we will train a neural network to take an input image, and output a set of x, y values corresponding to a target.\n",
    "\n",
    "We will be using PyTorch deep learning framework to train ResNet18 neural network architecture model for road follower application."
   ]
  },
  {
   "cell_type": "code",
   "execution_count": 1,
   "metadata": {},
   "outputs": [],
   "source": [
    "import torch\n",
    "import torch.optim as optim\n",
    "import torch.nn.functional as F\n",
    "import torchvision\n",
    "import torchvision.datasets as datasets\n",
    "import torchvision.models as models\n",
    "import torchvision.transforms as transforms\n",
    "import glob\n",
    "import PIL.Image\n",
    "import os\n",
    "import numpy as np"
   ]
  },
  {
   "cell_type": "markdown",
   "metadata": {},
   "source": [
    "### Download and extract data\n",
    "\n",
    "Before you start, you should upload the ``road_following_<Date&Time>.zip`` file that you created in the ``data_collection.ipynb`` notebook on the robot. \n",
    "\n",
    "> If you're training on the JetBot you collected data on, you can skip this!\n",
    "\n",
    "You should then extract this dataset by calling the command below:"
   ]
  },
  {
   "cell_type": "code",
   "execution_count": 2,
   "metadata": {},
   "outputs": [],
   "source": [
    "# !unzip -q road_following.zip"
   ]
  },
  {
   "cell_type": "markdown",
   "metadata": {},
   "source": [
    "You should see a folder named ``dataset_all`` appear in the file browser."
   ]
  },
  {
   "cell_type": "markdown",
   "metadata": {},
   "source": [
    "### Create Dataset Instance\n",
    "\n",
    "Here we create a custom ``torch.utils.data.Dataset`` implementation, which implements the ``__len__`` and ``__getitem__`` functions.  This class\n",
    "is responsible for loading images and parsing the x, y values from the image filenames.  Because we implement the ``torch.utils.data.Dataset`` class,\n",
    "we can use all of the torch data utilities :)\n",
    "\n",
    "We hard coded some transformations (like color jitter) into our dataset.  We made random horizontal flips optional (in case you want to follow a non-symmetric path, like a road\n",
    "where we need to 'stay right').  If it doesn't matter whether your robot follows some convention, you could enable flips to augment the dataset."
   ]
  },
  {
   "cell_type": "code",
   "execution_count": 3,
   "metadata": {},
   "outputs": [],
   "source": [
    "def get_x(path, width):\n",
    "    \"\"\"Gets the x value from the image filename\"\"\"\n",
    "    return (float(int(float(path.split(\"_\")[1]))) - width/2) / (width/2)\n",
    "\n",
    "def get_y(path, height):\n",
    "    \"\"\"Gets the y value from the image filename\"\"\"\n",
    "    return (float(int(float(path.split(\"_\")[2]))) - height/2) / (height/2)\n",
    "\n",
    "class XYDataset(torch.utils.data.Dataset):\n",
    "    \n",
    "    def __init__(self, directory, random_hflips=False):\n",
    "        self.directory = directory\n",
    "        self.random_hflips = random_hflips\n",
    "        self.image_paths = glob.glob(os.path.join(self.directory, '*.jpg'))\n",
    "        self.color_jitter = transforms.ColorJitter(0.3, 0.3, 0.3, 0.3)\n",
    "    \n",
    "    def __len__(self):\n",
    "        return len(self.image_paths)\n",
    "    \n",
    "    def __getitem__(self, idx):\n",
    "        image_path = self.image_paths[idx]\n",
    "        \n",
    "        image = PIL.Image.open(image_path)\n",
    "        width, height = image.size\n",
    "        x = float(get_x(os.path.basename(image_path), width))\n",
    "        y = float(get_y(os.path.basename(image_path), height))\n",
    "      \n",
    "        if float(np.random.rand(1)) > 0.5:\n",
    "            image = transforms.functional.hflip(image)\n",
    "            x = -x\n",
    "        \n",
    "        image = self.color_jitter(image)\n",
    "        image = transforms.functional.resize(image, (224, 224))\n",
    "        image = transforms.functional.to_tensor(image)\n",
    "        image = image.numpy()[::-1].copy()\n",
    "        image = torch.from_numpy(image)\n",
    "        image = transforms.functional.normalize(image, [0.485, 0.456, 0.406], [0.229, 0.224, 0.225])\n",
    "        \n",
    "        return image, torch.tensor([x, y]).float()\n",
    "    \n",
    "dataset = XYDataset('dataset_all', random_hflips=False)"
   ]
  },
  {
   "cell_type": "markdown",
   "metadata": {},
   "source": [
    "### Split dataset into train and test sets\n",
    "Once we read dataset, we will split data set in train and test sets. In this example we split train and test a 90%-10%. The test set will be used to verify the accuracy of the model we train."
   ]
  },
  {
   "cell_type": "code",
   "execution_count": 4,
   "metadata": {},
   "outputs": [
    {
     "data": {
      "text/plain": [
       "'/home/David/Desktop/robomac/dataset_xy'"
      ]
     },
     "execution_count": 4,
     "metadata": {},
     "output_type": "execute_result"
    }
   ],
   "source": [
    "pwd"
   ]
  },
  {
   "cell_type": "code",
   "execution_count": 5,
   "metadata": {},
   "outputs": [
    {
     "data": {
      "text/plain": [
       "1013"
      ]
     },
     "execution_count": 5,
     "metadata": {},
     "output_type": "execute_result"
    }
   ],
   "source": [
    "len(dataset)"
   ]
  },
  {
   "cell_type": "code",
   "execution_count": 6,
   "metadata": {},
   "outputs": [],
   "source": [
    "test_percent = 0.15\n",
    "# num_test = int(test_percent * len(dataset))\n",
    "train_dataset, test_dataset = torch.utils.data.random_split(dataset, [len(dataset) - int(len(dataset) * test_percent), int(len(dataset) * test_percent)])"
   ]
  },
  {
   "cell_type": "markdown",
   "metadata": {},
   "source": [
    "### Create data loaders to load data in batches\n",
    "\n",
    "We use ``DataLoader`` class to load data in batches, shuffle data and allow using multi-subprocesses. In this example we use batch size of 64. Batch size will be based on memory available with your GPU and it can impact accuracy of the model."
   ]
  },
  {
   "cell_type": "code",
   "execution_count": 7,
   "metadata": {},
   "outputs": [],
   "source": [
    "train_loader = torch.utils.data.DataLoader(\n",
    "    train_dataset,\n",
    "    batch_size=8,\n",
    "    shuffle=True,\n",
    "    num_workers=0\n",
    ")\n",
    "\n",
    "test_loader = torch.utils.data.DataLoader(\n",
    "    test_dataset,\n",
    "    batch_size=8,\n",
    "    shuffle=True,\n",
    "    num_workers=0\n",
    ")"
   ]
  },
  {
   "cell_type": "markdown",
   "metadata": {},
   "source": [
    "### Define Neural Network Model \n",
    "\n",
    "We use ResNet-18 model available on PyTorch TorchVision. \n",
    "\n",
    "In a process called transfer learning, we can repurpose a pre-trained model (trained on millions of images) for a new task that has possibly much less data available.\n",
    "\n",
    "\n",
    "More details on ResNet-18 : https://github.com/pytorch/vision/blob/master/torchvision/models/resnet.py\n",
    "\n",
    "More Details on Transfer Learning: https://www.youtube.com/watch?v=yofjFQddwHE "
   ]
  },
  {
   "cell_type": "code",
   "execution_count": 8,
   "metadata": {},
   "outputs": [],
   "source": [
    "model = models.resnet18(pretrained=True)\n",
    "#model = torch.load('proba2.pth')\n"
   ]
  },
  {
   "cell_type": "markdown",
   "metadata": {},
   "source": [
    "ResNet model has fully connect (fc) final layer with 512 as ``in_features`` and we will be training for regression thus ``out_features`` as 1\n",
    "\n",
    "Finally, we transfer our model for execution on the GPU"
   ]
  },
  {
   "cell_type": "code",
   "execution_count": 9,
   "metadata": {},
   "outputs": [],
   "source": [
    "model.fc = torch.nn.Linear(512, 2)\n",
    "device = torch.device('cpu')\n",
    "model = model.to(device)"
   ]
  },
  {
   "cell_type": "markdown",
   "metadata": {},
   "source": [
    "### Train Regression:\n",
    "\n",
    "We train for 50 epochs and save best model if the loss is reduced. "
   ]
  },
  {
   "cell_type": "code",
   "execution_count": 10,
   "metadata": {},
   "outputs": [
    {
     "name": "stdout",
     "output_type": "stream",
     "text": [
      "0.244715, 0.074834\n",
      "0.064592, 0.039871\n",
      "0.056392, 0.039591\n",
      "0.041617, 0.036509\n",
      "0.047846, 0.046216\n",
      "0.037539, 0.020166\n",
      "0.030978, 0.022365\n",
      "0.025854, 0.021195\n",
      "0.029935, 0.036417\n",
      "0.021692, 0.012711\n",
      "0.020026, 0.018713\n",
      "0.019622, 0.021411\n",
      "0.016402, 0.017009\n",
      "0.016938, 0.024500\n",
      "0.017909, 0.018381\n",
      "0.013282, 0.012977\n",
      "0.011509, 0.013188\n",
      "0.011129, 0.020491\n",
      "0.010789, 0.021845\n",
      "0.012211, 0.019635\n",
      "0.012548, 0.013805\n",
      "0.011431, 0.015556\n",
      "0.010781, 0.016316\n",
      "0.009178, 0.012389\n",
      "0.009346, 0.019067\n",
      "0.010761, 0.014611\n",
      "0.015432, 0.021718\n",
      "0.012054, 0.013026\n",
      "0.010490, 0.015024\n",
      "0.007253, 0.013620\n",
      "0.007342, 0.026414\n",
      "0.008599, 0.013106\n",
      "0.008994, 0.012764\n",
      "0.007041, 0.016975\n",
      "0.006196, 0.018030\n",
      "0.005978, 0.016131\n",
      "0.005770, 0.015690\n",
      "0.006178, 0.015448\n",
      "0.005680, 0.015591\n",
      "0.005624, 0.013953\n",
      "0.007387, 0.013049\n",
      "0.005578, 0.013117\n",
      "0.007779, 0.018811\n",
      "0.007012, 0.012629\n",
      "0.005043, 0.012516\n",
      "0.006747, 0.013723\n",
      "0.005104, 0.013295\n",
      "0.005100, 0.019589\n",
      "0.005568, 0.014917\n",
      "0.006635, 0.013481\n",
      "0.009935, 0.014646\n",
      "0.015145, 0.035777\n",
      "0.046750, 0.030909\n",
      "0.037937, 0.019245\n",
      "0.017860, 0.016958\n",
      "0.022537, 0.029571\n",
      "0.015383, 0.017727\n",
      "0.011784, 0.013407\n",
      "0.008765, 0.012367\n",
      "0.007410, 0.016351\n",
      "0.005462, 0.012581\n",
      "0.006837, 0.013349\n",
      "0.006311, 0.016916\n",
      "0.004515, 0.013242\n",
      "0.004085, 0.014893\n",
      "0.003855, 0.012591\n",
      "0.003709, 0.012690\n",
      "0.003377, 0.013800\n",
      "0.004218, 0.011331\n",
      "0.003349, 0.011224\n",
      "0.003817, 0.014534\n",
      "0.004230, 0.015058\n",
      "0.004774, 0.013223\n",
      "0.003827, 0.012341\n",
      "0.004146, 0.011129\n",
      "0.005452, 0.011500\n",
      "0.005939, 0.012915\n",
      "0.004848, 0.014899\n",
      "0.004236, 0.012664\n",
      "0.005335, 0.015377\n",
      "0.004792, 0.013253\n",
      "0.005718, 0.012704\n",
      "0.004053, 0.013653\n",
      "0.004719, 0.013946\n",
      "0.004172, 0.012505\n",
      "0.011773, 0.057835\n",
      "0.038345, 0.029090\n",
      "0.017383, 0.019477\n",
      "0.010821, 0.015317\n",
      "0.008572, 0.013614\n",
      "0.005426, 0.013462\n",
      "0.005074, 0.014574\n",
      "0.004266, 0.013573\n",
      "0.004151, 0.012107\n",
      "0.003473, 0.012177\n",
      "0.003075, 0.012943\n",
      "0.002224, 0.011822\n",
      "0.002578, 0.010837\n",
      "0.002208, 0.012309\n",
      "0.002376, 0.011901\n",
      "0.002654, 0.011516\n",
      "0.002413, 0.011297\n",
      "0.002221, 0.012280\n",
      "0.002366, 0.011305\n",
      "0.002143, 0.011859\n",
      "0.002336, 0.011258\n",
      "0.002811, 0.011473\n",
      "0.002299, 0.011336\n",
      "0.002267, 0.011773\n",
      "0.002545, 0.013072\n",
      "0.002966, 0.012219\n",
      "0.002561, 0.012886\n",
      "0.002355, 0.012362\n",
      "0.003022, 0.013507\n",
      "0.002919, 0.011329\n",
      "0.002453, 0.012439\n",
      "0.002755, 0.012648\n",
      "0.003776, 0.013552\n",
      "0.002918, 0.010331\n",
      "0.002621, 0.011532\n",
      "0.004608, 0.024017\n",
      "0.034600, 0.029373\n",
      "0.013330, 0.018527\n",
      "0.006908, 0.014079\n",
      "0.004758, 0.011122\n",
      "0.003706, 0.012069\n",
      "0.002130, 0.011999\n",
      "0.002130, 0.013397\n",
      "0.002088, 0.011539\n",
      "0.002273, 0.011341\n",
      "0.001736, 0.011907\n",
      "0.001397, 0.011780\n",
      "0.001532, 0.011737\n",
      "0.001368, 0.010541\n",
      "0.001291, 0.010986\n",
      "0.001322, 0.010578\n",
      "0.001336, 0.011872\n",
      "0.001435, 0.011624\n",
      "0.001582, 0.010442\n",
      "0.001351, 0.011152\n",
      "0.001640, 0.011325\n",
      "0.001973, 0.011408\n",
      "0.001913, 0.010950\n",
      "0.001851, 0.012436\n",
      "0.001767, 0.011373\n",
      "0.001881, 0.011185\n",
      "0.001516, 0.011519\n",
      "0.001582, 0.010499\n",
      "0.001641, 0.011575\n",
      "0.001642, 0.010998\n"
     ]
    }
   ],
   "source": [
    "NUM_EPOCHS = 150\n",
    "BEST_MODEL_PATH = 'proba3.pth'\n",
    "best_loss = 1e9\n",
    "\n",
    "optimizer = optim.Adam(model.parameters())\n",
    "\n",
    "for epoch in range(NUM_EPOCHS):\n",
    "    \n",
    "    model.train()\n",
    "    train_loss = 0.0\n",
    "    for images, labels in iter(train_loader):\n",
    "        images = images.to(device)\n",
    "        labels = labels.to(device)\n",
    "        optimizer.zero_grad()\n",
    "        outputs = model(images)\n",
    "        loss = F.mse_loss(outputs, labels)\n",
    "        train_loss += float(loss)\n",
    "        loss.backward()\n",
    "        optimizer.step()\n",
    "    train_loss /= len(train_loader)\n",
    "    \n",
    "    model.eval()\n",
    "    test_loss = 0.0\n",
    "    for images, labels in iter(test_loader):\n",
    "        images = images.to(device)\n",
    "        labels = labels.to(device)\n",
    "        outputs = model(images)\n",
    "        loss = F.mse_loss(outputs, labels)\n",
    "        test_loss += float(loss)\n",
    "    test_loss /= len(test_loader)\n",
    "    \n",
    "    print('%f, %f' % (train_loss, test_loss))\n",
    "    if test_loss < best_loss:\n",
    "        torch.save(model.state_dict(), BEST_MODEL_PATH)\n",
    "        best_loss = test_loss"
   ]
  },
  {
   "cell_type": "markdown",
   "metadata": {},
   "source": [
    "Once the model is trained, it will generate ``best_steering_model_xy.pth`` file which you can use for inferencing in the live demo notebook.\n",
    "\n",
    "If you trained on a different machine other than JetBot, you'll need to upload this to the JetBot to the ``road_following`` example folder."
   ]
  }
 ],
 "metadata": {
  "kernelspec": {
   "display_name": "Python 3 (ipykernel)",
   "language": "python",
   "name": "python3"
  },
  "language_info": {
   "codemirror_mode": {
    "name": "ipython",
    "version": 3
   },
   "file_extension": ".py",
   "mimetype": "text/x-python",
   "name": "python",
   "nbconvert_exporter": "python",
   "pygments_lexer": "ipython3",
   "version": "3.6.13"
  }
 },
 "nbformat": 4,
 "nbformat_minor": 4
}
