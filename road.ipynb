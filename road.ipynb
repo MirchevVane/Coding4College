{
 "cells": [
  {
   "cell_type": "markdown",
   "id": "775cfc48-583f-437a-adde-0ff5878e7016",
   "metadata": {},
   "source": [
    "# Тетраткава треба да ја искористите откако ќе имате снимено множество со слики!!!"
   ]
  },
  {
   "cell_type": "markdown",
   "id": "0beb4d35-b985-4f3e-9578-ccb134584656",
   "metadata": {},
   "source": [
    "## Внесување на скриптата script.py"
   ]
  },
  {
   "cell_type": "markdown",
   "id": "954800cf-3ed6-49e6-87d0-84af25b0f626",
   "metadata": {},
   "source": [
    "### Проверете мануелно дали имињата во фолдерот на кој сакате да извршите трансформации во тетраткава е со имиња од формат xy_{x}_{y}_генериран_стринг.jpg\n",
    "**Доколку се истите, фолдерот е спремен за внес во невронска мрежа, не го пуштајте повторно фолдерот низ оваа тетратка!!!!**"
   ]
  },
  {
   "cell_type": "code",
   "execution_count": 40,
   "id": "c0e26d7e-3c6c-47d8-9db1-abc335e734b2",
   "metadata": {
    "tags": []
   },
   "outputs": [],
   "source": [
    "import script as rt\n",
    "import os"
   ]
  },
  {
   "cell_type": "code",
   "execution_count": 41,
   "id": "d7234e94-b5df-449b-8fc1-c7c56cbaae34",
   "metadata": {
    "tags": []
   },
   "outputs": [
    {
     "data": {
      "text/plain": [
       "'/home/vane/Desktop/robomac/dataset_xy/10maj'"
      ]
     },
     "execution_count": 41,
     "metadata": {},
     "output_type": "execute_result"
    }
   ],
   "source": [
    "pwd\n"
   ]
  },
  {
   "cell_type": "code",
   "execution_count": 43,
   "id": "20a0ba82-9f15-40c0-b73a-d08c71ff1ca5",
   "metadata": {
    "tags": []
   },
   "outputs": [],
   "source": [
    "# cd 11_08\n"
   ]
  },
  {
   "cell_type": "code",
   "execution_count": 44,
   "id": "b1069497-5ce8-4377-9c3e-51242c9c9dcd",
   "metadata": {
    "tags": []
   },
   "outputs": [
    {
     "name": "stdout",
     "output_type": "stream",
     "text": [
      "\u001b[0m\u001b[01;34m07_32\u001b[0m/  \u001b[01;34m08_04\u001b[0m/  \u001b[01;34m08_49\u001b[0m/  \u001b[01;34m10_05\u001b[0m/  data_jetbot.csv  \u001b[01;31mmilan.zip\u001b[0m\n"
     ]
    }
   ],
   "source": [
    "ls"
   ]
  },
  {
   "cell_type": "markdown",
   "id": "134482e8-1b76-4ba3-96d0-55ecb250f670",
   "metadata": {},
   "source": [
    "## Анотирање на сите слики една по една.\n",
    "* Дојдете со поинтерот од вашето електронско глувче во делот каде се наоѓа сликата.\n",
    "* `Се извинуваме за трепкањето на сликата`! Тоа не е никаков проблем за сликата, туку само за вашите очи. (се случува бидејќи константно ја вчитува истата слика на секое најмало поместување на поинтерот се додека да кликнете со поинтерот.)\n",
    "* На местотот каде вие ќе оцените дека е најдобро го опишува патот притиснете со левиот клик на глувчето.\n",
    "* **Нема назад!!!!**, доколку сметате дека сте погрешиле некоја слика ќе треба пак одново. `Бидете внимателни.`\n",
    "* Finish ќе значи дека сте ги изминале сите слики."
   ]
  },
  {
   "cell_type": "code",
   "execution_count": 48,
   "id": "129dbc71-6f2b-4559-aea6-7c1d4401ef4f",
   "metadata": {},
   "outputs": [
    {
     "data": {
      "text/plain": [
       "'/home/vane/Desktop/robomac/dataset_xy'"
      ]
     },
     "execution_count": 48,
     "metadata": {},
     "output_type": "execute_result"
    }
   ],
   "source": [
    "pwd"
   ]
  },
  {
   "cell_type": "code",
   "execution_count": 49,
   "id": "f41297f7-f218-4288-91c9-16805d3bdbe7",
   "metadata": {},
   "outputs": [
    {
     "name": "stdout",
     "output_type": "stream",
     "text": [
      "/home/vane/Desktop/robomac/dataset_xy/12\n"
     ]
    }
   ],
   "source": [
    "cd 12"
   ]
  },
  {
   "cell_type": "code",
   "execution_count": 50,
   "id": "1f0bb4f9-e824-4823-948f-5f2f5b7c864b",
   "metadata": {
    "tags": []
   },
   "outputs": [
    {
     "data": {
      "application/vnd.jupyter.widget-view+json": {
       "model_id": "5924f290ae934e689a0fb73d1365a74c",
       "version_major": 2,
       "version_minor": 0
      },
      "text/plain": [
       "Output(outputs=({'output_type': 'display_data', 'data': {'text/plain': \"Label(value='')\", 'application/vnd.jup…"
      ]
     },
     "metadata": {},
     "output_type": "display_data"
    }
   ],
   "source": [
    "rt.PathGuider('04_57/*', 'data_jetbot.csv')  ### Внимание : Провери дали фолдерот е тој што сакаш да го анотираш?!_\n",
    "### Притоа ако фолдерот не е твојот посакуван фолдер за анотирање, смени го неговото име во 'dataset_name/*'' каде dataset_name e името на твојот фолдер кој би требало /\n",
    "#### да се наоѓа во истиот фолдер со script.py и road.ipynb. Доколку е во некој потфолдер влезниот облик треба да е : 'path_to_dataset/dataset_name/*''"
   ]
  },
  {
   "cell_type": "code",
   "execution_count": null,
   "id": "bf12e4ae-7628-4f07-b698-9690ff795314",
   "metadata": {},
   "outputs": [],
   "source": []
  },
  {
   "cell_type": "markdown",
   "id": "e78922e2-6b5c-4752-b29e-b1ef2635ce7f",
   "metadata": {
    "tags": []
   },
   "source": [
    "## За да ги промените имињата и во фолдерот со слики\n",
    "* Бидејќи оригиналните имиња ги имаат само генерираните имиња, треба x, y координатите да ги зачуваме во името пред генераторот.\n",
    "* Ова ни е битно бидејќи сакаме да си ја олесниме работата за при внес на сликите во невронска мрежа, да ги отпакуваме тогаш x, y координатите и така да ги имаме за регресискиот модел."
   ]
  },
  {
   "cell_type": "markdown",
   "id": "58e8f974-cf55-430d-b152-2a6956461a62",
   "metadata": {},
   "source": [
    "#### Важно : Вториот аргумент од претходната ќелија треба да е ист со првиот од наредната ќелија, а dataset_xy од претходната ќелија мора да е ист со вториот аргумент од наредната ќелија!!!\n",
    "\n",
    "* Ова не мора да е имплементирано на ваков начин, може да креирате прво фолдер каде ќе ги копирате сите слики од {dataset_xy} (вака е кај Милан, не мора да значи дека и вас ќе ви се вика вака). Чувај си локални копии од сите фолдери локално на `лаптоп`"
   ]
  },
  {
   "cell_type": "code",
   "execution_count": 30,
   "id": "1dcd815c-9870-4114-902b-0ba68aeef3f6",
   "metadata": {},
   "outputs": [],
   "source": [
    "!zip -r -q datase_david.zip datase_david"
   ]
  },
  {
   "cell_type": "code",
   "execution_count": null,
   "id": "89223472-d6f4-4a37-9d56-aa789a7454aa",
   "metadata": {},
   "outputs": [],
   "source": [
    "5d3592e6-efd8-11ed-a2cc-4a433b536649.jpg\n",
    "dd22371c-efd7-11ed-a2cc-4a433b536649.jpg"
   ]
  },
  {
   "cell_type": "markdown",
   "id": "28aca837-5614-4d0f-a41a-501263dc83c6",
   "metadata": {},
   "source": [
    "* `Сега симни си го dataset_xy.zip` со десен клик и Download.\n",
    "* Доколку фајлот не може визуелно да се лоцира бидејќи се симнал на друго место, а од левата страна ти е отворена друга локација со фолдери, само одкоментирај и изврши ја долната команда која ќе ти каже каде се наоѓаш. Тогаш оди на таа локација и симни го .zip фајлот."
   ]
  },
  {
   "cell_type": "code",
   "execution_count": 22,
   "id": "0d083981-faab-4db6-bfdc-bb26f660b542",
   "metadata": {},
   "outputs": [
    {
     "data": {
      "text/plain": [
       "'/home/vane/Desktop/robomac/dataset_xy'"
      ]
     },
     "execution_count": 22,
     "metadata": {},
     "output_type": "execute_result"
    }
   ],
   "source": [
    "pwd\n"
   ]
  },
  {
   "cell_type": "code",
   "execution_count": 8,
   "id": "39bcaa50-5e45-43af-bacf-e06528211b42",
   "metadata": {},
   "outputs": [
    {
     "name": "stdout",
     "output_type": "stream",
     "text": [
      "data_collection.ipynb  \u001b[0m\u001b[01;34mjetbot\u001b[0m/       road.ipynb\n",
      "\u001b[01;34mdataset_xy\u001b[0m/            \u001b[01;34m__pycache__\u001b[0m/  script.py\n"
     ]
    }
   ],
   "source": [
    "ls\n"
   ]
  },
  {
   "cell_type": "code",
   "execution_count": 24,
   "id": "888af663-2734-4d23-9825-1c0e78115489",
   "metadata": {},
   "outputs": [],
   "source": [
    "rt.renameImages('data_jetbot.csv', 'dataset2/02_41')"
   ]
  },
  {
   "cell_type": "markdown",
   "id": "1202eee0-3bb0-4cb2-8b52-b39a125f7094",
   "metadata": {
    "tags": []
   },
   "source": [
    "### По твоја желба доколку сакаш сега можеш да го избришеш CSV фајлот. Прво увери се дека сликите во фолдерот се со соодветни имиња од типот посочен погоре.\n",
    "## Доколку не си сигурен, не го бриши фајлот, инаку ќе анотираш повторно.\n",
    "\n",
    "* Изврши ја следната ќелија за да ти успее магијата."
   ]
  },
  {
   "cell_type": "code",
   "execution_count": 25,
   "id": "a9bd4e9b-c8c4-4a18-b8e0-1061973ba063",
   "metadata": {},
   "outputs": [],
   "source": [
    "os.remove('data_jetbot.csv')"
   ]
  },
  {
   "cell_type": "code",
   "execution_count": 26,
   "id": "6357bd58-059c-4480-a8ba-59cc246b1b4f",
   "metadata": {},
   "outputs": [
    {
     "data": {
      "text/plain": [
       "'/home/vane/Desktop/robomac/dataset_xy'"
      ]
     },
     "execution_count": 26,
     "metadata": {},
     "output_type": "execute_result"
    }
   ],
   "source": [
    "pwd"
   ]
  },
  {
   "cell_type": "code",
   "execution_count": 27,
   "id": "15d1d30d-7db1-47ef-9d15-4804781a6dd5",
   "metadata": {},
   "outputs": [
    {
     "name": "stdout",
     "output_type": "stream",
     "text": [
      "\u001b[0m\u001b[01;34m10maj\u001b[0m/  \u001b[01;34mdataset1\u001b[0m/  \u001b[01;34mdataset_all\u001b[0m/     proba1.pth  proba3.pth  train_model.ipynb\n",
      "\u001b[01;34m9maj\u001b[0m/   \u001b[01;34mdataset2\u001b[0m/  live_demo.ipynb  proba2.pth  \u001b[01;31mproba3.zip\u001b[0m\n"
     ]
    }
   ],
   "source": [
    "ls"
   ]
  },
  {
   "cell_type": "code",
   "execution_count": null,
   "id": "75a6e79d-7bba-43ba-99ca-1e32592aa3b2",
   "metadata": {},
   "outputs": [],
   "source": []
  }
 ],
 "metadata": {
  "kernelspec": {
   "display_name": "Python 3 (ipykernel)",
   "language": "python",
   "name": "python3"
  },
  "language_info": {
   "codemirror_mode": {
    "name": "ipython",
    "version": 3
   },
   "file_extension": ".py",
   "mimetype": "text/x-python",
   "name": "python",
   "nbconvert_exporter": "python",
   "pygments_lexer": "ipython3",
   "version": "3.11.3"
  }
 },
 "nbformat": 4,
 "nbformat_minor": 5
}
