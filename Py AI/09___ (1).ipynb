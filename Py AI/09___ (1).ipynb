{
 "cells": [
  {
   "cell_type": "markdown",
   "metadata": {},
   "source": [
    "# Наивен Бејесов алгоритам"
   ]
  },
  {
   "cell_type": "code",
   "execution_count": null,
   "metadata": {},
   "outputs": [],
   "source": [
    "#klasa mi e izlezot na primer dole imame dve klasi 0 i 1 "
   ]
  },
  {
   "cell_type": "code",
   "execution_count": 1,
   "metadata": {
    "tags": []
   },
   "outputs": [
    {
     "data": {
      "image/jpeg": "[encoded data removed]",
      "text/html": [
       "\n",
       "        <iframe\n",
       "            width=\"400\"\n",
       "            height=\"300\"\n",
       "            src=\"https://www.youtube.com/embed/l3o_Y5f4UnM\"\n",
       "            frameborder=\"0\"\n",
       "            allowfullscreen\n",
       "            \n",
       "        ></iframe>\n",
       "        "
      ],
      "text/plain": [
       "<IPython.lib.display.YouTubeVideo at 0x7f197195c390>"
      ]
     },
     "execution_count": 1,
     "metadata": {},
     "output_type": "execute_result"
    }
   ],
   "source": [
    "from IPython.lib.display import YouTubeVideo\n",
    "YouTubeVideo('l3o_Y5f4UnM')"
   ]
  },
  {
   "cell_type": "markdown",
   "metadata": {},
   "source": [
    "## Референци\n",
    "- [Упатство за инсталирање на потребните библиотеки и екстензии](https://docs.google.com/presentation/d/1tnoeNF_ge9KK_ovTF7xgKVB64ltuV27IPShk3ddSK5w/edit#slide=id.ga20dadbc8e_0_0)\n",
    "- [Објаснување за Наивен Бејесов алгоритам - Џош Страмер](https://www.youtube.com/watch?v=O2L2Uv9pdDA)\n",
    "- [За Бејесовата теорема - Дерек Милер](https://www.youtube.com/watch?v=R13BD8qKeTg)\n",
    "- [За Бејесовата теорема - Грант Сандерсон](https://www.youtube.com/watch?v=HZGCoVF3YvM)\n"
   ]
  },
  {
   "cell_type": "markdown",
   "metadata": {},
   "source": [
    "Бејесов класификатор е алгоритам за класификација кој на некој начин ја користи [Бејесовата теорема](https://en.wikipedia.org/wiki/Bayes%27_theorem) за да класифицира. Наивен Бејесов класификатор е Бејесов класификатор кој моделира независност помеѓу признаците (карактеристиките) во податочното множество. Објаснување за алгоритамот ќе најдете во книгата на професорката, а следува код кој ја имплементира функцијата од книгата."
   ]
  },
  {
   "cell_type": "markdown",
   "metadata": {},
   "source": [
    "Нека е дадена табела `table`. Последната колона `y` е излезна колона, а сите други `f` колони се признаци."
   ]
  },
  {
   "cell_type": "code",
   "execution_count": 3,
   "metadata": {},
   "outputs": [
    {
     "data": {
      "text/plain": [
       "[[0, 1, 1, 0, 1],\n",
       " [0, 0, 1, 1, 1],\n",
       " [1, 0, 1, 0, 1],\n",
       " [0, 0, 1, 1, 1],\n",
       " [0, 0, 0, 1, 1],\n",
       " [1, 0, 0, 1, 0],\n",
       " [1, 1, 0, 1, 0],\n",
       " [1, 0, 0, 0, 0],\n",
       " [1, 1, 0, 1, 0],\n",
       " [1, 0, 1, 1, 0]]"
      ]
     },
     "execution_count": 3,
     "metadata": {},
     "output_type": "execute_result"
    }
   ],
   "source": [
    "                                #imame 4 vlezni podatoci, kombinacii od edinici i nuli. Realno vkupniot broj kombinacii od edinici i nuli sto moze da se napravi e 2^4=16\n",
    "                                #tuka se napraveni 10 kombinacii, znaci za 6 bi mozelo da predvidi izlez vo odnos na podatocite na koi e \"istreniran\" (iako zborov ne e soodveten \n",
    "                                #tuka tuku kaj drva na odlucuvanje)\n",
    "table = [\n",
    "#    f1  f2  f3  f4   y\n",
    "    [ 0,  1,  1,  0,  1],\n",
    "    [ 0,  0,  1,  1,  1],\n",
    "    [ 1,  0,  1,  0,  1],\n",
    "    [ 0,  0,  1,  1,  1],\n",
    "    [ 0,  0,  0,  1,  1],\n",
    "    [ 1,  0,  0,  1,  0],\n",
    "    [ 1,  1,  0,  1,  0],\n",
    "    [ 1,  0,  0,  0,  0],\n",
    "    [ 1,  1,  0,  1,  0],\n",
    "    [ 1,  0,  1,  1,  0]\n",
    "]\n",
    "table              "
   ]
  },
  {
   "cell_type": "markdown",
   "metadata": {},
   "source": [
    "За да класифицираме даден податок, ќе ја пресметаме веројатноста тој податок да припаѓа на секоја можна класа. Потоа ќе ги споредиме тие веројатности и влезниот податок ќе го класифицираме дека припаѓа во онаа класа за која сме пресметале најголема веројатност.\n",
    "\n",
    "При пресметката на гореспоменатите веројатности, лесно може да се заклучи дека сите имаат ист заеднички именител во дробниот израз. Тој именител е нормализаторот од Бејесовата теорема. Доколку целта ни е само да класифицираме, нема потреба да ја пресметуваме точната веројатност, туку ќе ја пресметаме веројатноста без тој нормализатор. Во овој случај зборуваме за веродостојност наместо веројатност.\n",
    "\n",
    "Функцијата `r()` е функцијата $R$ од книгата на професорката."
   ]
  },
  {
   "cell_type": "code",
   "execution_count": 5,
   "metadata": {},
   "outputs": [
    {
     "data": {
      "text/plain": [
       "0.8"
      ]
     },
     "execution_count": 5,
     "metadata": {},
     "output_type": "execute_result"
    }
   ],
   "source": [
    "\n",
    "def r(feature_x_index, value, output_class):\n",
    "    \n",
    "    #na pr za r2(0,1)\n",
    "    #feature_x_index=2, value=0, output=y=1\n",
    "    \n",
    "    \n",
    "    #a e suma od site redovi vo koisto poslednata kolona [-1] ima vrednost ednakva na y \n",
    "    #odnosno so ovoj cekor se izdvojuvaat samo tie redici vo koisto izlezot soodvetsvuva na nasiot izlez\n",
    "    a = sum([output_class == row[-1] for row in table])\n",
    "    #a moze na primer i len(state) da naprajme, pa za sekoj red da ja proveruvame state[len(state)]\n",
    "    \n",
    "    \n",
    "    #vsusnost a e kolku redovi imaat izlez edinica\n",
    "    \n",
    "    \n",
    "    #b e suma od site redovi (niz izdvoenite redovi sto imaat izlez soodveten na nasiot praten) za koisto vazi deka vlezot e ednakov na value pratena\n",
    "    b = sum([output_class == row[-1] and row[feature_x_index-1] == value for row in table])\n",
    "    \n",
    "    return b / a\n",
    "\n",
    "r(2, 0, 1)"
   ]
  },
  {
   "cell_type": "markdown",
   "metadata": {},
   "source": [
    "Да речеме дека имаме влезен податок `0011`. Треба да го класифицираме во која група спаѓа, односно да пресметаме дали излезот за овој податок е 0 или 1. Ќе ја користиме дадената табела `table`.\n",
    "\n",
    "Прво ќе ја пресметаме веродостојноста излезот за дадениот податок да има вредност 0. Тоа ќе го пресметаме како $$ S(0) = R_1(0, 0) R_2(0, 0) R_3(1, 0) R_4(1, 0) $$\n",
    "каде $R_a(b, c)$ ја пресметува застапеноста на податоците каде излез е `c`, а признакот `f_a` има вредност `b`, во податоците каде излез е `c`. На овој начин секоја вредност ја пресметуваме статистички. Преку код ова ќе го запишеме како `r(a, b, c)`."
   ]
  },
  {
   "cell_type": "code",
   "execution_count": null,
   "metadata": {},
   "outputs": [],
   "source": [
    "s_0 = r(1, 0, 0) * r(2, 0, 0) * r(3, 1, 0) * r(4, 1, 0)\n",
    "s_0"
   ]
  },
  {
   "cell_type": "markdown",
   "metadata": {},
   "source": [
    "Потоа ќе ја пресметаме веродостојноста излезот за дадениот податок да има вредност 1. Тоа ќе го пресметаме како $$ S(1) = R_1(0, 1) R_2(0, 1) R_3(1, 1) R_4(1, 1) $$."
   ]
  },
  {
   "cell_type": "code",
   "execution_count": null,
   "metadata": {},
   "outputs": [],
   "source": [
    "s_1 = r(1, 0, 1) * r(2, 0, 1) * r(3, 1, 1) * r(4, 1, 1)\n",
    "s_1"
   ]
  },
  {
   "cell_type": "markdown",
   "metadata": {},
   "source": [
    "$S(1) > S(0)$, па заклучуваме дека излезот за дадениот податок е 1. "
   ]
  },
  {
   "cell_type": "markdown",
   "metadata": {},
   "source": [
    "## Задача за самостојна работа"
   ]
  },
  {
   "cell_type": "markdown",
   "metadata": {},
   "source": [
    "Воведете лапласова корекција за да ги избегнеме случаите кога во нашето податочно множество немаме податок дека се случил некој настан кој може да се случи, односно некоја вредност $R_a(b, c) = 0$, како што е дадено во примерот погоре."
   ]
  },
  {
   "cell_type": "markdown",
   "metadata": {},
   "source": [
    "## Наивен Бејесов алгоритам преку библиотеката `scikit-learn`"
   ]
  },
  {
   "cell_type": "raw",
   "metadata": {},
   "source": [
    "idejata e deka ako ne se slucil nastan toa NE znaci deka toj nema verojatost da se sluci tuku ednostavno dosega ne se slucil,\n",
    "pa zatoa na site sluceni nastani i na nastanot sto ne se slucil dodavame plus 1 odnosno gledame nekoj idealen slucaj\n",
    "vo koj vikame (pr. so kocka) eve sega kje ja frlam kockata i kje mi se padnat 6 pati po red 6 razlicni vrednosti"
   ]
  },
  {
   "cell_type": "code",
   "execution_count": null,
   "metadata": {
    "tags": []
   },
   "outputs": [],
   "source": [
    "from sklearn.model_selection import train_test_split\n",
    "from sklearn.feature_extraction.text import CountVectorizer, TfidfTransformer\n",
    "from sklearn.pipeline import Pipeline\n",
    "from sklearn.naive_bayes import MultinomialNB\n",
    "from sklearn.metrics import accuracy_score"
   ]
  },
  {
   "cell_type": "code",
   "execution_count": null,
   "metadata": {},
   "outputs": [],
   "source": [
    "data = open('data/вести.txt').read().lower().split('\\n') #sekoja edna vest e na eden red, lower gi pravi mali bukvite\n",
    "titles = [d.lstrip('naslov:').strip() for d in data if d.startswith('naslov')] #ako redot zapocnuva so naslov togas kje go otstranime naslov:\n",
    "#i kje gi trgneme praznite mesta istotaka #kje go zemem naslovot titles\n",
    "text_bodies = [d.lstrip('tekst:').strip() for d in data if d.startswith('tekst')] #kje go zacuvame tekstot\n",
    "classes = [d.lstrip('klasa:').strip() for d in data if d.startswith('klasa')] #tuka kje ja zacuvame klasata"
   ]
  },
  {
   "cell_type": "code",
   "execution_count": null,
   "metadata": {
    "tags": []
   },
   "outputs": [],
   "source": [
    "#predprocesiranje na tekst\n",
    "#gi zemame samo zborovite\n",
    "texts = [] #listata se polni ts \n",
    "for title, text_body in zip(titles, text_bodies): #iterirame niz title+text body (gi spojuva naslovot i tekstot)\n",
    "    #odime naslov i tekst (zip gi spojuva edno po edno)\n",
    "    #sega za niv so lower vekje se mali bukvi site\n",
    "    #i title i text body se zaedno bez tekst: \n",
    "    #odime bukva po bukva i ako bukvata e od makedonskata azbuka pritoa site mali\n",
    "    #i prazno mesto togas ke zacuvame\n",
    "    #join site spoeni vo string (site bukvi smaleni, trgnati broevi, kk znaci, i samo tekstot ostanal)\n",
    "    texts.append(''.join(bukva for bukva in title + text_body if bukva in 'абвгдѓежзѕијклљмнњопрстќуфхцчџш '))\n",
    "    #Vmetnuvame pretprocesiranje na podatoci-otstranuvame nepotrebni raboti na primer br 6 ne ne povrzuva so kultura edno drugo sto e klucno pa ni smeta\n",
    "    #znaci ke gi zememe samo zborovite \n",
    "    #i seedno ni e dali e golema ili mala bukva "
   ]
  },
  {
   "cell_type": "code",
   "execution_count": null,
   "metadata": {},
   "outputs": [],
   "source": [
    "#vo ovoj moment tekstot ni e obraboten odnosno trgnati se site broevi smaleni site bukvi trgnati se karakteristicnite znaci\n",
    "#probaj so text[0]"
   ]
  },
  {
   "cell_type": "code",
   "execution_count": null,
   "metadata": {},
   "outputs": [],
   "source": [
    "train_dataset, test_dataset, train_labels, test_labels = train_test_split(texts, classes, test_size=0.25, random_state=161)\n",
    "#go delime podatocnoto mnozestvo"
   ]
  },
  {
   "cell_type": "code",
   "execution_count": null,
   "metadata": {},
   "outputs": [],
   "source": [
    "#Pipeline e procedura ks pravi 3 funkc ednapoedna i kje gi spoi vlez od edna e vlez vo dr itn (?)\n",
    "clf = Pipeline([\n",
    "    ('vectorizer', CountVectorizer()), #zima vrednosti od tekst i broi kojkolku pati se ima sluceno na primer  zborot 'na', i gledame deka vo eden tekst se slucuva 15 pati\n",
    "    ('tfidf', TfidfTransformer()), #izlezot od vectorizer kje se prati tuka i kje se vidi frekvencijata na sekoj zbor na pr od tekst 250 zborovi a na neka e 10\n",
    "    #znaci 1/25 zacestenost na na \n",
    "    ('clf', MultinomialNB(alpha=1e-3)),#toa go prakjame vo ovaa funkcija od scikit learn bibliotekata\n",
    "    #moze da pratime parametar za da se sluci laplasovata korekcijaaaa \n",
    "])"
   ]
  },
  {
   "cell_type": "code",
   "execution_count": null,
   "metadata": {},
   "outputs": [],
   "source": [
    "clf.fit(train_dataset, train_labels)\n",
    "#go trenirame mnozestvoto i procedurata kje se istrennira"
   ]
  },
  {
   "cell_type": "code",
   "execution_count": null,
   "metadata": {},
   "outputs": [],
   "source": [
    "y_pred = clf.predict(test_dataset)\n",
    "#dava niza od proceneti klasi\n",
    "\n",
    "#test labels kje gi dade vistinskite vrednosti\n",
    "#no ako sakame da vidime kaj gresi pravime\n",
    "for true, pred in zip(test_labels,y_pred):\n",
    "    if true!=pred:\n",
    "        print(true, pred)\n",
    "        #i kje ispecati koi gi gresi\n",
    "        \n",
    "#a ako sakame da znaeme koi se tie vesti sto gi gresi \n",
    "for text, true, pred in zip(test_dataset, test_labels, y_pred):\n",
    "    if true!=pred:\n",
    "        print (true,'-', pred)\n",
    "        print(text)\n",
    "        print('--------------------')"
   ]
  },
  {
   "cell_type": "code",
   "execution_count": null,
   "metadata": {},
   "outputs": [],
   "source": [
    "y_pred_train = clf.predict(train_dataset)\n"
   ]
  },
  {
   "cell_type": "code",
   "execution_count": null,
   "metadata": {},
   "outputs": [],
   "source": [
    "print('Accuracy Score on train data: ', accuracy_score(y_true=train_labels, y_pred=y_pred_train)) #tocnosta na mnozestvoto sto go ima videno alg za treniranje\n",
    "print('Accuracy Score on test data: ', accuracy_score(y_true=test_labels, y_pred=y_pred)) #tocnosta na mnozestvoto za test\n",
    "na pr toa kje znaci od 20 tekstovi 19 se pogodeni\n",
    "valjda za edno mnozestvo go pustame na treniranje i imame kazano dali e kultura sport etc\n",
    "a za drugo mnozestvo algoritamot prvpat go gleda"
   ]
  }
 ],
 "metadata": {
  "kernelspec": {
   "display_name": "Python 3 (ipykernel)",
   "language": "python",
   "name": "python3"
  },
  "language_info": {
   "codemirror_mode": {
    "name": "ipython",
    "version": 3
   },
   "file_extension": ".py",
   "mimetype": "text/x-python",
   "name": "python",
   "nbconvert_exporter": "python",
   "pygments_lexer": "ipython3",
   "version": "3.11.5"
  }
 },
 "nbformat": 4,
 "nbformat_minor": 4
}
