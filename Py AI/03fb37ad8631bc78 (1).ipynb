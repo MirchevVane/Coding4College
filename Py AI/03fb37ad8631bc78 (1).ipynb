{
 "cells": [
  {
   "cell_type": "code",
   "execution_count": null,
   "id": "917b2823-a5cd-4a41-9283-5a157997a78a",
   "metadata": {},
   "outputs": [],
   "source": [
    "1. Како се пресметува информациската придобивка кај алгоритмите за дрва за одлучување?\n",
    "-се пресметува така што се одзема ентропијата пред направената поделба и по направената поделба. Колку е подобра направената поделба (колку подобро го дели\n",
    "множеството податоци), толку подобра и ќе биде информациската придобивка. \n",
    "При градење дрво со ИД3 алгоритамот, информациската придобивка е многу важен фактор затоа што главниот јазел на поделба ќе биде избран така што истиот\n",
    "прави поделба со најголема информациска придобивка.\n",
    "\n",
    "Тоест таа е статистичка мерка која кажува колку добро карактеристиката го дели множеството на групи за да можеме успешно да го класифицираме, се пресметува\n",
    "како разлика меѓу моменталната ентропија и ентропијата после пресметување откако карактеристиката ќе го подели множеството на групи."
   ]
  },
  {
   "cell_type": "code",
   "execution_count": null,
   "id": "cdf40e4d-04ae-4fb5-9780-fd6897fc11ce",
   "metadata": {},
   "outputs": [],
   "source": [
    "2. Објаснете на кој начин ни помага функцијата за ентропија кај дрвата за одлучување.\n",
    "Entropijata se koristi za odreduvanje na informaciska pridobivka\n",
    "\n",
    "    se odreduva koja podelba ni dava najgolema informaciska pridobivka, t.e. koja podelba ke e optimalna, i vo sledniot cekor drvoto se deli po taa optimalna podelba.\n",
    "    Informaciskata pridobivka e razlika pomegu entropijata posle podelbata i entropijata na podatocnoto mnozestvo pred podelbata.\n"
   ]
  },
  {
   "cell_type": "code",
   "execution_count": null,
   "id": "b2f14820-4066-4cad-80bb-342a106d78bc",
   "metadata": {},
   "outputs": [],
   "source": [
    "3. Зошто за алгоритамот ID3 за градење на дрво се вели дека е алчен алгоритам?\n",
    "\n",
    "    ID3 algoritmot e alcen bidejki drvoto za odlucuvanje go deli na alcen nacin\n",
    "        toa znaci deka so sekoja iteracija, algoritmot alcno ja bara optimalnata podelba (onaa koja ke dovede do najgolema informaciska pridobivka)\n",
    "\n",
    "Се вели дека е ачлен зашто ја бира најдобрата поделба според моменталната распределба на податоци, а не најдобрата карактеристика за цело дрво.\n"
   ]
  },
  {
   "cell_type": "code",
   "execution_count": null,
   "id": "a3fd5a6e-1c72-449d-8a54-7443639f3878",
   "metadata": {},
   "outputs": [],
   "source": [
    "4. Што значи претренирана мрежа (overfitting), а што значи подтренирана мрежа (underfitting)? Како ќе знаеме дека мрежата истренирала како што треба?\n",
    "\n",
    "-Претренирана мрежа: кога моделот ќе се обучи со толку многу податоци, тој ќе почне да учи од бучавата????(што е ова???)\n",
    "и неточните податоци во нашето множество на податоци.\n",
    "Резултира со висока варијанса(грешка поради чувствителноста на моделот на флуктуации во податоците за тренирање,\n",
    "Подтренирана мрежа: кога моделот е премногу едноставен за да се долови сложеноста на податоците, тоа претставува неспособност на моделот да ги научи податоците за тренирање што резултира со слаби перформанси.\n",
    "                \n",
    "                               \n",
    "-Overfitting is a common problem in machine learning where a model learns the training data too well, capturing noise, randomness, or specific patterns that are unique to the training set but do not generalize well to new, unseen data. In other words, an overfit model performs well on the training data but poorly on new, previously unseen data.\n",
    "Learning Training Data Too Well:\n",
    "In an attempt to minimize the training error, the model may capture not only the underlying patterns in the data but also the noise and random fluctuations present in the training set.\n",
    "This can lead to a model that is too complex and fits the training data too closely.\n",
    "Failure to Generalize:\n",
    "The primary goal of machine learning is to build models that can generalize well to new, unseen data. Overfitting occurs when the model becomes too tailored to the training set and fails to generalize to other data.\n",
    "Signs of Overfitting:\n",
    "One common sign of overfitting is a large difference between the performance metrics (such as accuracy) on the training set and the validation or test set. The model may have memorized the training data instead of learning the underlying patterns.\n",
    "                              \n",
    "                              \n",
    "Underfitting:\n",
    "Underfitting occurs when a machine learning model is too simple to capture the underlying patterns in the training data. The model is not able to learn the complexities present in the data, resulting in poor performance on both the training set and new, unseen data.\n",
    "Signs of underfitting include low accuracy on the training set and poor generalization to validation or test data.\n",
    "                              \n",
    "                              \n",
    "You can say that a neural network has learned well when it demonstrates the following characteristics:\n",
    "Good Training Performance:\n",
    "The model should achieve low training loss and high training accuracy on the training set. This indicates that the network has effectively learned the patterns in the training data.\n",
    "Generalization to Unseen Data:\n",
    "Evaluate the model on a separate validation set or a test set that it has not seen during training. A well-learned model should perform well on this new, unseen data, indicating good generalization.\n",
    "Noisy Data Handling:\n",
    "If the training data contains noise or outliers, the model should learn the underlying patterns without being overly influenced by the noise."
   ]
  },
  {
   "cell_type": "code",
   "execution_count": null,
   "id": "0f53b998-9b03-47b4-b3a2-476516bfa1a7",
   "metadata": {},
   "outputs": [],
   "source": [
    "5. Зошто наивниот Беасов алгоритам се нарекува \"наивен\", а зошто \"Баесов\"?\n",
    "Се нарекува наивен затоа што смета дека признаците меѓусебно се независни, што многу често и не е случај. \n",
    "Баесов се нарекува затоа што се базира на Баесовата теорема.\n"
   ]
  },
  {
   "cell_type": "code",
   "execution_count": null,
   "id": "295c4235-c5e2-42ca-87f2-ea097e9d642d",
   "metadata": {},
   "outputs": [],
   "source": [
    "6. На кој начин ја обучувате невронската мрежа? Опишете го тој начин во една реченица. \n",
    "Обуката за невронска мрежа е како да ја учите со прилагодување на нејзините параметри врз основа на споредување на нејзините предвидувања со точни одговори, \n",
    "така што таа учи да прави подобри предвидувања со текот на времето."
   ]
  },
  {
   "cell_type": "code",
   "execution_count": null,
   "id": "161ec2d6-9efe-48da-8a14-b40d8ac2de20",
   "metadata": {},
   "outputs": [],
   "source": [
    "7: Што всушност значи да се обучи една невронска мрежа?\n",
    "Обуката за невронска мрежа вклучува прилагодување на нејзините внатрешни параметри (тежини и предрасуди) \n",
    "со користење на означени примери за да и се овозможи на мрежата да прави точни предвидувања или класификации на нови, невидени податоци."
   ]
  },
  {
   "cell_type": "code",
   "execution_count": null,
   "id": "0099ec69-c88c-490f-8deb-6053baa2d380",
   "metadata": {},
   "outputs": [],
   "source": [
    "8: Како да проверите дали штотуку обучената невронска мрежа добро предвидува?\n",
    "За да видите дали вашата новообучена невронска мрежа е добра во својата работа, тестирајте ја на нови примери што не ги видел досега \n",
    "(валидација и тест множества),\n",
    "проверете дали прави точни предвидувања (точност) и поправете ги работите ако не ги прави со дотерување како научил."
   ]
  },
  {
   "cell_type": "code",
   "execution_count": null,
   "id": "9c537467-83a1-472a-a1b0-70f2db67d2c8",
   "metadata": {},
   "outputs": [],
   "source": [
    "9. Објаснете што значи невронска мрежа. Замислете си дека одговарате на прашање поставено од дете од 5-то оделение.\n",
    "Замислете невронска мрежа е како мозок на робот. \n",
    "Тоа е компјутерски систем кој учи да прави работи гледајќи примери. \n",
    "Можете да го замислите како куп мали носители на одлуки, како мали мозочни клетки, кои работат заедно. \n",
    "Овие носители на одлуки учат од грешките и со текот на времето стануваат подобри. \n",
    "Значи, невронската мрежа е како паметен роботски мозок кој учи и се подобрува со вежбање со примери."
   ]
  }
 ],
 "metadata": {
  "kernelspec": {
   "display_name": "Python 3 (ipykernel)",
   "language": "python",
   "name": "python3"
  },
  "language_info": {
   "codemirror_mode": {
    "name": "ipython",
    "version": 3
   },
   "file_extension": ".py",
   "mimetype": "text/x-python",
   "name": "python",
   "nbconvert_exporter": "python",
   "pygments_lexer": "ipython3",
   "version": "3.11.5"
  }
 },
 "nbformat": 4,
 "nbformat_minor": 5
}
