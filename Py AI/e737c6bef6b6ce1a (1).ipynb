{
 "cells": [
  {
   "cell_type": "markdown",
   "id": "94367124-e14c-46d1-84f9-fe756b5f30d2",
   "metadata": {
    "tags": []
   },
   "source": [
    "# Овошје"
   ]
  },
  {
   "cell_type": "markdown",
   "id": "4db2fb4a-0cfb-4531-9825-930766ee7ac8",
   "metadata": {},
   "source": [
    "Целта на оваа лабораториска вежба е да се запознаете со процедурата за тренирање и тестирање на способноста на алгоритам од областа на машинското учење. Примерот е за дрва за одлучување, користејќи ја библиотеката [scikit-learn](https://scikit-learn.org/stable/index.html)."
   ]
  },
  {
   "cell_type": "markdown",
   "id": "be4f7fda",
   "metadata": {},
   "source": [
    "Разгледуваме множество податоци за овошје и зеленчук. Целта е да умееме да разликуваме овошје од зеленчук имајќи го предвид хранливиот состав на производот. Податоците со кои располагаме се дадени во табелата подолу."
   ]
  },
  {
   "cell_type": "code",
   "execution_count": null,
   "id": "5ec2f7c4",
   "metadata": {
    "tags": []
   },
   "outputs": [],
   "source": [
    "import pandas as pd"
   ]
  },
  {
   "cell_type": "code",
   "execution_count": null,
   "id": "cd51ac92",
   "metadata": {
    "tags": []
   },
   "outputs": [],
   "source": [
    "df = pd.read_csv('data/fruits_train.csv')\n",
    "df"
   ]
  },
  {
   "cell_type": "markdown",
   "id": "aa0873eb",
   "metadata": {},
   "source": [
    "Поделете го податочното множество на два дела. Поголемиот дел нека е 70% и ќе служи за тренирање, а помалиот дел од 30% ќе служи за проверка на повединието на алгоритмите кои ќе ги имплементирате понатаму."
   ]
  },
  {
   "cell_type": "code",
   "execution_count": null,
   "id": "0a09e489-7f98-47d5-8c4a-f2fc5d03198a",
   "metadata": {
    "tags": []
   },
   "outputs": [],
   "source": [
    "df_y = df['classification']\n",
    "df_x = df.iloc[:, :-1]"
   ]
  },
  {
   "cell_type": "code",
   "execution_count": null,
   "id": "062c3a70",
   "metadata": {
    "tags": []
   },
   "outputs": [],
   "source": [
    "from sklearn.model_selection import train_test_split"
   ]
  },
  {
   "cell_type": "code",
   "execution_count": null,
   "id": "4cd7aa10-db70-4841-8d57-809f2f3737b8",
   "metadata": {
    "tags": []
   },
   "outputs": [],
   "source": [
    "df_train_x, df_test_x, df_train_y, df_test_y = train_test_split(df_x, df_y, test_size=0.3, random_state=155)\n",
    "df_test_x"
   ]
  },
  {
   "cell_type": "markdown",
   "id": "30a1b39b",
   "metadata": {},
   "source": [
    "Исцртајте ги на график производите така што на x и y оските ќе бидат податоците за витамините, а производите ќе бидат претставени со боја или симбол.\n",
    "\n",
    "**Совет**: За помош може да го искористите третиот пример `Setting size and color with column names` од [документацијата](https://plotly.com/python/line-and-scatter/) на плотли."
   ]
  },
  {
   "cell_type": "code",
   "execution_count": null,
   "id": "6f759ad7-5fcd-42a4-9cd4-e06c4f1f0073",
   "metadata": {
    "tags": []
   },
   "outputs": [],
   "source": [
    "import plotly.express as px\n",
    "px.scatter(df, x=\"vitamin A %\", y=\"vitamin C %\", color=\"classification\")"
   ]
  },
  {
   "cell_type": "markdown",
   "id": "a5736c4c",
   "metadata": {},
   "source": [
    "Користејќи ја библиотеката `sklearn`,  вчитајте класификатор - дрво за одлучување, претставен преку класата `DecisionTreeClassifier`, а потоа вметнете ги податоците за тренирање од вториот чекор за да ја истренирате мрежата.\n",
    "\n",
    "- [Пример за дрва за одлучување од sklearn](https://scikit-learn.org/stable/modules/tree.html)\n",
    "- [Документација за Decision Tree Classifier](https://scikit-learn.org/stable/modules/generated/sklearn.tree.DecisionTreeClassifier.html)"
   ]
  },
  {
   "cell_type": "code",
   "execution_count": null,
   "id": "c2c8cae5-6573-41ff-bcdd-5210bbe8573d",
   "metadata": {
    "tags": []
   },
   "outputs": [],
   "source": [
    "from sklearn.tree import DecisionTreeClassifier"
   ]
  },
  {
   "cell_type": "code",
   "execution_count": null,
   "id": "3fed1a51-3d50-4dd8-8978-dc3774477eac",
   "metadata": {
    "tags": []
   },
   "outputs": [],
   "source": [
    "clf = DecisionTreeClassifier(criterion='entropy')\n",
    "clf.fit(df_train_x, df_train_y)"
   ]
  },
  {
   "cell_type": "markdown",
   "id": "e1a22b17",
   "metadata": {},
   "source": [
    "Пресметајте ја прецизноста на алгоритамот за податоците кои тој ги нема видено (на кои нема тренирано). Потоа пресметајте ја прецизноста на алгоритамот за податоците кои ги има видено (на кои има тренирано). Споредете ги резултатите. Ви изгледаат ли во ред?"
   ]
  },
  {
   "cell_type": "code",
   "execution_count": null,
   "id": "4b1941dc-38ae-4483-81e9-bec0dedb2060",
   "metadata": {
    "tags": []
   },
   "outputs": [],
   "source": [
    "df_pred_y = clf.predict(df_test_x)\n",
    "df_pred_y"
   ]
  },
  {
   "cell_type": "code",
   "execution_count": null,
   "id": "305fc3e1-cde7-45f2-a66a-99862aa5f86e",
   "metadata": {
    "tags": []
   },
   "outputs": [],
   "source": [
    "from sklearn.metrics import accuracy_score\n",
    "accuracy_score(df_test_y, df_pred_y)"
   ]
  },
  {
   "cell_type": "code",
   "execution_count": null,
   "id": "c28bb476-8032-4f63-b525-d723eb9755dd",
   "metadata": {
    "tags": []
   },
   "outputs": [],
   "source": [
    "accuracy_score(df_train_y, clf.predict(df_train_x))"
   ]
  },
  {
   "cell_type": "markdown",
   "id": "eca651e2",
   "metadata": {},
   "source": [
    "Кои производи алгоритамот успева да ги распознава подобро, висококалоричните (над 50 калории) или нискокалоричните (под 50 калории)?"
   ]
  },
  {
   "cell_type": "code",
   "execution_count": null,
   "id": "9acd1732-c6be-4b51-9467-14204a6240f7",
   "metadata": {
    "tags": []
   },
   "outputs": [],
   "source": [
    "df_high_calorie = df[df['calories (per 100g)'] > 50]\n",
    "df_low_calorie = df[df['calories (per 100g)'] <= 50]\n",
    "df_high_calorie"
   ]
  },
  {
   "cell_type": "code",
   "execution_count": null,
   "id": "3cde11d4-a329-493b-bfb9-379370db48b2",
   "metadata": {
    "tags": []
   },
   "outputs": [],
   "source": [
    "df_high_calorie_y = df_high_calorie['classification']\n",
    "df_high_calorie_x = df_high_calorie.iloc[:, :-1]\n",
    "accuracy_score(df_high_calorie_y, clf.predict(df_high_calorie_x))"
   ]
  },
  {
   "cell_type": "code",
   "execution_count": null,
   "id": "1fb3c2d2-ea8b-45ae-9d3d-dbf9e065063f",
   "metadata": {
    "tags": []
   },
   "outputs": [],
   "source": [
    "df_low_calorie_y = df_low_calorie['classification']\n",
    "df_low_calorie_x = df_low_calorie.iloc[:, :-1]\n",
    "accuracy_score(df_low_calorie_y, clf.predict(df_low_calorie_x))"
   ]
  },
  {
   "cell_type": "markdown",
   "id": "14095fac-1bea-4a62-b656-8dd1aea18938",
   "metadata": {},
   "source": [
    "Какви производи се редовите од податочното множество од датотеката `fruits_test.csv`?"
   ]
  },
  {
   "cell_type": "code",
   "execution_count": null,
   "id": "8ea548dd-c0b8-46a8-8098-007fe681fe91",
   "metadata": {
    "tags": []
   },
   "outputs": [],
   "source": [
    "\n",
    "df_new = pd.read_csv('data/fruits_test.csv')\n",
    "df_new"
   ]
  },
  {
   "cell_type": "markdown",
   "id": "dd7cc4cc-3778-4628-afb7-86911ef5b1d0",
   "metadata": {},
   "source": [
    "Тука самата табела не го содржи излезот, па затоа не ги делиме на карактеристики и излез."
   ]
  },
  {
   "cell_type": "code",
   "execution_count": null,
   "id": "c3078061",
   "metadata": {
    "tags": []
   },
   "outputs": [],
   "source": [
    "clf.predict(df_new)"
   ]
  },
  {
   "cell_type": "code",
   "execution_count": null,
   "id": "cdf8f4ba-c077-4cec-803a-9f6e64078d3e",
   "metadata": {},
   "outputs": [],
   "source": []
  },
  {
   "cell_type": "code",
   "execution_count": null,
   "id": "54699c5e",
   "metadata": {},
   "outputs": [],
   "source": []
  },
  {
   "cell_type": "code",
   "execution_count": null,
   "id": "06976143-68cf-4448-8c5f-2a00693c45fa",
   "metadata": {},
   "outputs": [],
   "source": []
  }
 ],
 "metadata": {
  "kernelspec": {
   "display_name": "Python 3 (ipykernel)",
   "language": "python",
   "name": "python3"
  },
  "language_info": {
   "codemirror_mode": {
    "name": "ipython",
    "version": 3
   },
   "file_extension": ".py",
   "mimetype": "text/x-python",
   "name": "python",
   "nbconvert_exporter": "python",
   "pygments_lexer": "ipython3",
   "version": "3.11.5"
  }
 },
 "nbformat": 4,
 "nbformat_minor": 5
}
