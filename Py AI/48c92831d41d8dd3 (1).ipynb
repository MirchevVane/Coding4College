{
 "cells": [
  {
   "cell_type": "markdown",
   "id": "bf21947f-d564-49f5-80fc-145b472bd8d7",
   "metadata": {
    "tags": []
   },
   "source": [
    "# Втор парцијален испит по Основи на Вештачката Интелигенција - 1/2\n",
    "\n",
    "**Датум**: 18.01.2023"
   ]
  },
  {
   "cell_type": "markdown",
   "id": "8df1bd0b-f5aa-4d82-a986-a4d08c98b06e",
   "metadata": {},
   "source": [
    "## 1. Амазон\n",
    "Ја разгледуваме задачата за играта Амазон, од аудиториските вежби."
   ]
  },
  {
   "cell_type": "markdown",
   "id": "b687069a-5a0c-4515-980d-491f3fa1d3f5",
   "metadata": {},
   "source": [
    "### Прашања и задачи"
   ]
  },
  {
   "cell_type": "markdown",
   "id": "90551a93-d663-4311-86ae-4c88d5ba667a",
   "metadata": {},
   "source": [
    "Бидејќи дрвото на играта е мало, во решението од аудиториските се разгранува целото дрво. Сакаме да дознаеме колку вкупно состојби се разгрануваат при пребарувањето низ дрвото."
   ]
  },
  {
   "cell_type": "markdown",
   "id": "2ae574b9-8839-400b-97cd-8af8a5f8954b",
   "metadata": {},
   "source": [
    "1.1. **(5 поени)** Без користење на калкулатор, дискутирајте на кој начин ќе процените колку состојби треба да се разгранат за да се истражи целото дрво на играта.\n",
    "    "
   ]
  },
  {
   "cell_type": "markdown",
   "id": "77d550b1-6d1e-48ea-9ff0-554d824eb715",
   "metadata": {},
   "source": [
    "* Ако сакаме да го разграниме целото дрво, тогаш не треба да користиме алфа бета поткаструвањe, значи ќе ја користeме функцијата minimax во која не фигурираат алфа и бета.\n",
    "    * Во функцијата ќе поставиме бројач кој ќе брои колку пати ќе се повикува таа функција. Бидејќи секоја состојба од дрвото се повикува еднаш, значи бројот на повикувања = бројот на состојби кои се разгрануваат"
   ]
  },
  {
   "cell_type": "markdown",
   "id": "6091b41e-4fa7-4b01-abaa-d919f6df1b49",
   "metadata": {},
   "source": [
    "1.2. **(5 поени) (код)** Пресметајте колку точно состојби се разгрануваат за да се истражи целото дрво на играта?"
   ]
  },
  {
   "cell_type": "code",
   "execution_count": null,
   "id": "1a12377f-9c35-4033-b8d6-32c0b79cdda9",
   "metadata": {
    "tags": []
   },
   "outputs": [],
   "source": [
    "# Funkciite gi izvadov od klasata Game, zatoa sto vo momentot bitno mi e samo da ja odredam vrednosta na counter \n",
    "# (ne sakam da ja igram samata igra i ne mi treba kodot za vizuelizacija)"
   ]
  },
  {
   "cell_type": "code",
   "execution_count": null,
   "id": "c3d41d7c-7646-4b7f-8123-dd4b4076df59",
   "metadata": {
    "tags": []
   },
   "outputs": [],
   "source": [
    "from copy import deepcopy"
   ]
  },
  {
   "cell_type": "code",
   "execution_count": null,
   "id": "5d4f6ba3-984f-418b-8e18-841e148850e8",
   "metadata": {
    "tags": []
   },
   "outputs": [],
   "source": [
    "scores = {'S': 1, 'P': -1}\n",
    "N = 3\n",
    "\n",
    "def minimax(node, player):\n",
    "    global counter\n",
    "    counter += 1\n",
    "    winner = check_victory(node, 'S' if player == 'MAX' else 'P')\n",
    "    if winner != 'keep_playing':\n",
    "        return scores[winner], None\n",
    "    best_value = 2 if player == 'MIN' else -2\n",
    "    best_move = None\n",
    "    for child, move in expand_state(node, player):\n",
    "        other_player = 'MIN' if player == 'MAX' else 'MAX'\n",
    "        result, _ = minimax(child, other_player)\n",
    "        if player == 'MIN' and result < best_value:\n",
    "            best_value = result\n",
    "            best_move = move\n",
    "        elif player == 'MAX' and result > best_value:\n",
    "            best_value = result\n",
    "            best_move = move\n",
    "    return best_value, best_move\n",
    "\n",
    "def find_queen(state, queen_symbol):\n",
    "    for y in range(N):\n",
    "        for x in range(N):\n",
    "            if state[y][x] == queen_symbol:\n",
    "                return x, y\n",
    "\n",
    "def possible_moves(state, x, y):\n",
    "    deltas = [\n",
    "        (0, 1), (0, -1), (1, 0), (-1, 0),\n",
    "        (1, 1), (1, -1), (-1, 1), (-1, -1)]\n",
    "    for dx, dy in deltas:\n",
    "        nx, ny = x + dx, y + dy\n",
    "        while 0 <= nx < N and 0 <= ny < N:\n",
    "            if state[ny][nx] == '·':\n",
    "                yield nx, ny\n",
    "            else:\n",
    "                break\n",
    "            nx += dx\n",
    "            ny += dy\n",
    "\n",
    "def possible_shots(state, x, y):\n",
    "    shots = [\n",
    "        (0, 1), (0, -1), (1, 0), (-1, 0),\n",
    "        (1, 1), (1, -1), (-1, 1), (-1, -1)]\n",
    "    for dx, dy in shots:\n",
    "        nx, ny = x + dx, y + dy\n",
    "        if 0 <= nx < N and 0 <= ny < N:\n",
    "            if state[ny][nx] == '·':\n",
    "                yield nx, ny\n",
    "\n",
    "def expand_state(state, player):\n",
    "    symbol = 'S' if player == 'MAX' else 'P'\n",
    "    qx, qy = find_queen(state, symbol)\n",
    "    for px_move, py_move in possible_moves(state, qx, qy):\n",
    "        state_after_move = list([list(row) for row in state])\n",
    "        state_after_move[py_move][px_move] = symbol\n",
    "        state_after_move[qy][qx] = '·'\n",
    "        for px_shot, py_shot in possible_moves(state_after_move, px_move, py_move):\n",
    "            state_after_shot = deepcopy(state_after_move)\n",
    "            state_after_shot[py_shot][px_shot] = 'x'\n",
    "            state_after_shot = tuple([tuple(row) for row in state_after_shot])\n",
    "            yield state_after_shot, [qx, qy, px_move, py_move, px_shot, py_shot]\n",
    "\n",
    "def other_queen_symbol(queen_symbol):\n",
    "    return 'P' if queen_symbol == 'S' else 'S'\n",
    "\n",
    "def check_victory(state, queen_to_move__symbol):\n",
    "    queen_to_move__symbol\n",
    "    qx, qy = find_queen(state, queen_to_move__symbol)\n",
    "    if list(possible_moves(state, qx, qy)) == []:\n",
    "        return other_queen_symbol(queen_to_move__symbol)\n",
    "    return 'keep_playing'"
   ]
  },
  {
   "cell_type": "code",
   "execution_count": null,
   "id": "eff13839-ac7f-4789-b535-aec15183df28",
   "metadata": {
    "tags": []
   },
   "outputs": [],
   "source": [
    "counter = 0\n",
    "# primer ova e nasata pocetna sostojba, a na red e MAX igracot\n",
    "state = [\n",
    "    ['·', '·', 'P'],\n",
    "    ['·', '·', '·'],\n",
    "    ['S', '·', '·'],\n",
    "]"
   ]
  },
  {
   "cell_type": "code",
   "execution_count": null,
   "id": "67647131-ab7d-4fd6-a0b5-01d0b2177284",
   "metadata": {
    "tags": []
   },
   "outputs": [],
   "source": [
    "%%time\n",
    "minimax(state, 'MAX')"
   ]
  },
  {
   "cell_type": "code",
   "execution_count": null,
   "id": "1ed36f7a-d2ff-44c4-a12f-2f894ff5cd6e",
   "metadata": {
    "tags": []
   },
   "outputs": [],
   "source": [
    "counter"
   ]
  },
  {
   "cell_type": "markdown",
   "id": "d3413531-4927-4937-bc47-f7f0bf4409e1",
   "metadata": {},
   "source": [
    "1.3. **(5 поени)** Што е алфа-бета поткастрување? Зошто користиме алфа-бета поткастрување во оваа игра?"
   ]
  },
  {
   "cell_type": "markdown",
   "id": "d25af46b-e92d-400d-978c-d97ebe053430",
   "metadata": {},
   "source": [
    "* Алфа-бета поткаструвањето е метода која се користи со цел да се минимизира бројот на состојби кои се испитуваат. Ова овозможува minimax алгоритмот да се извршува во пократко време, но притоа повторно секогаш да го дава точниот резултат (поткаструвањето ги елиминира гранките кои сигурно нема да се крајното решение).\n",
    "* Алфа-бета поткаструвањето се користи во играта со цел компјутерот побрзо да може да го пресмета наредниот чекор што играчот треба да го направи. (поточно што побрзо да изврши minimax)"
   ]
  },
  {
   "cell_type": "markdown",
   "id": "4255459e-f68a-429e-83e2-65aeb9be2c1b",
   "metadata": {},
   "source": [
    "1.4. **(10 поени) (код)** Покажете дека користењето на постапката за алфа-бета поткастрување се исплати во оваа игра. На кој начин подобро ќе се покаже: (1) преку времето потребно за извршување на алгоритмите или (2) преку броење на разгранетите јазли?"
   ]
  },
  {
   "cell_type": "code",
   "execution_count": null,
   "id": "0a7eaa23-4fa6-4481-9dfb-35a16fbb4cd9",
   "metadata": {},
   "outputs": [],
   "source": [
    "scores = {'S': 1, 'P': -1}\n",
    "N = 3\n",
    "\n",
    "def minimax_alpha_beta(node, player, alpha=-2, beta=2):\n",
    "    global counter\n",
    "    counter += 1\n",
    "    winner = check_victory(node, 'S' if player == 'MAX' else 'P')\n",
    "    if winner != 'keep_playing':\n",
    "        return scores[winner], None\n",
    "    best_value = 2 if player == 'MIN' else -2\n",
    "    best_move = None\n",
    "    for child, move in expand_state(node, player):\n",
    "        other_player = 'MIN' if player == 'MAX' else 'MAX'\n",
    "        result, _ = minimax_alpha_beta(child, other_player, alpha, beta)\n",
    "        if player == 'MIN':\n",
    "            if result <= alpha:\n",
    "                return result, best_move\n",
    "            if result < beta:\n",
    "                beta = result\n",
    "            if result < best_value:\n",
    "                best_value = result\n",
    "                best_move = move\n",
    "        elif player == 'MAX':\n",
    "            if result >= beta:\n",
    "                return result, best_move\n",
    "            if result > alpha:\n",
    "                alpha = result\n",
    "            if result > best_value:\n",
    "                best_value = result\n",
    "                best_move = move\n",
    "    return best_value, best_move\n",
    "\n",
    "# podolnite funkcii se istite kako vo kodot od zadaca 1.2\n",
    "def find_queen(state, queen_symbol):\n",
    "    for y in range(N):\n",
    "        for x in range(N):\n",
    "            if state[y][x] == queen_symbol:\n",
    "                return x, y\n",
    "\n",
    "def possible_moves(state, x, y):\n",
    "    deltas = [\n",
    "        (0, 1), (0, -1), (1, 0), (-1, 0),\n",
    "        (1, 1), (1, -1), (-1, 1), (-1, -1)]\n",
    "    for dx, dy in deltas:\n",
    "        nx, ny = x + dx, y + dy\n",
    "        while 0 <= nx < N and 0 <= ny < N:\n",
    "            if state[ny][nx] == '·':\n",
    "                yield nx, ny\n",
    "            else:\n",
    "                break\n",
    "            nx += dx\n",
    "            ny += dy\n",
    "\n",
    "def possible_shots(state, x, y):\n",
    "    shots = [\n",
    "        (0, 1), (0, -1), (1, 0), (-1, 0),\n",
    "        (1, 1), (1, -1), (-1, 1), (-1, -1)]\n",
    "    for dx, dy in shots:\n",
    "        nx, ny = x + dx, y + dy\n",
    "        if 0 <= nx < N and 0 <= ny < N:\n",
    "            if state[ny][nx] == '·':\n",
    "                yield nx, ny\n",
    "\n",
    "def expand_state(state, player):\n",
    "    symbol = 'S' if player == 'MAX' else 'P'\n",
    "    qx, qy = find_queen(state, symbol)\n",
    "    for px_move, py_move in possible_moves(state, qx, qy):\n",
    "        state_after_move = list([list(row) for row in state])\n",
    "        state_after_move[py_move][px_move] = symbol\n",
    "        state_after_move[qy][qx] = '·'\n",
    "        for px_shot, py_shot in possible_moves(state_after_move, px_move, py_move):\n",
    "            state_after_shot = deepcopy(state_after_move)\n",
    "            state_after_shot[py_shot][px_shot] = 'x'\n",
    "            state_after_shot = tuple([tuple(row) for row in state_after_shot])\n",
    "            yield state_after_shot, [qx, qy, px_move, py_move, px_shot, py_shot]\n",
    "\n",
    "def other_queen_symbol(queen_symbol):\n",
    "    return 'P' if queen_symbol == 'S' else 'S'\n",
    "\n",
    "def check_victory(state, queen_to_move__symbol):\n",
    "    queen_to_move__symbol\n",
    "    qx, qy = find_queen(state, queen_to_move__symbol)\n",
    "    if list(possible_moves(state, qx, qy)) == []:\n",
    "        return other_queen_symbol(queen_to_move__symbol)\n",
    "    return 'keep_playing'"
   ]
  },
  {
   "cell_type": "code",
   "execution_count": null,
   "id": "49bb1c66-7d89-49e9-9b50-3ef304992a4c",
   "metadata": {},
   "outputs": [],
   "source": [
    "counter = 0\n",
    "# primer ova e nasata pocetna sostojba, a na red e MAX igracot\n",
    "state = [\n",
    "    ['·', '·', 'P'],\n",
    "    ['·', '·', '·'],\n",
    "    ['S', '·', '·'],\n",
    "]"
   ]
  },
  {
   "cell_type": "code",
   "execution_count": null,
   "id": "2d9fb484-49ad-4e93-89cf-d2eb3a5ff7fc",
   "metadata": {},
   "outputs": [],
   "source": [
    "%%time\n",
    "minimax_alpha_beta(state, 'MAX')"
   ]
  },
  {
   "cell_type": "code",
   "execution_count": null,
   "id": "b2266f48-ed3d-4160-9ce6-e79053715a87",
   "metadata": {},
   "outputs": [],
   "source": [
    "counter"
   ]
  },
  {
   "cell_type": "markdown",
   "id": "f644dc50-5ad2-48ec-8351-44ebfd35c82f",
   "metadata": {},
   "source": [
    "* и преку времето и преку бројачот, очигледна е разликата што алфа бета поткаструвањето ја прави. Бројачот од околу 900.000 сега е околу 11.000, а времето од 11.5 секунди сега е од редот на милисекунди."
   ]
  },
  {
   "cell_type": "markdown",
   "id": "9852d53b-f6d8-42ba-99a4-e3ff349b840e",
   "metadata": {},
   "source": [
    "Целото дрво брзо се истражува на компјутер од 2022 година. Во продолжение разгледуваме случај кога овој алгоритам се поставува на компјутер кој нема доволно пресметковна моќ и мемориски ресурси за да го пребара целото дрво во логично време за еден потег. Ова е случај кога таблата наместо 3х3 ќе биде 6х6. Стандардната постапка во овој случај е да се ограничи длабочината до која пребарува алгоритамот, па тогаш да се проценува исходот од играта преку функција за евристика."
   ]
  },
  {
   "cell_type": "markdown",
   "id": "a9125d94-b495-45c4-b1c8-d05cd4555493",
   "metadata": {},
   "source": [
    "1.5. **(20 поени) (код)** Предложете функција за проценка на победникот (евристика) за оваа игра. Имплементирајте ја во код. Функцијата може да се напише без да ја тестирате со готовата игра од аудиториските вежби. Важно е да се објасни секоја логичка целина од кодот на функцијата која ќе ја напишете."
   ]
  },
  {
   "cell_type": "code",
   "execution_count": null,
   "id": "3c136ee6-8149-416e-a724-33b37c119780",
   "metadata": {
    "tags": []
   },
   "outputs": [],
   "source": [
    "# Nekoi funckii go sodrzat zborot evolved bidejki koga go pisuvav kodot za natprevarot, prvo imav polosi verzii od ovie funkcii.\n",
    "# Ne sakam da gi smenam iminjata bidejki nekade mozi ke zaboravam da smenam i se javi problem.\n",
    "\n",
    "# ispituva dali kralicata moze vo eden poteg da stigni do goal_position\n",
    "# ovaa funkcija e potrebna za ponatamu da se iskoristi vo how_many_squares_in_one_move_evolved\n",
    "def can_reach_directly_evolved(goal_position, queen_position, state):\n",
    "    gx, gy = goal_position\n",
    "    qx, qy = queen_position\n",
    "    if qy == gy: # ako kralicite se naogjaat vo ista kolona                         #ne znam dali vtorata kralica i e goal position no kje razberam \n",
    "        minx, maxx = (qx, gx) if qx < gx else (gx, qx)                              #znaci so momentov odreduvame deka minx e taa kralica sto e podolu, a maxx e taa kralica sto e pogore \n",
    "                                                                                    #e sega od dolnata do gornata se dviza\n",
    "                                                                                    #i ako naidam na '.' toa znaci deka tamu nekoj vekje postavil ogan ili pak ima kralica (sepak e razlicno od prazno)\n",
    "        for x in range(minx+1, maxx):\n",
    "            if state[qy][x] != '·': # ako izmegu dvete kralici ima precka\n",
    "                return False\n",
    "        return True # ako izmegu dvete kralici nema precki\n",
    "    \n",
    "    if qx == gx: # ako kralicite se naogjaat na ista redica\n",
    "        miny, maxy = (qy, gy) if qy < gy else (gy, qy)                              #ja naogjam polevata kolona za da se dvizam od levo kon desno\n",
    "        for y in range(miny+1, maxy):                                               #i ja sledam logikata od gore\n",
    "            if state[y][qx] != '·':\n",
    "                return False\n",
    "        return True\n",
    "    \n",
    "    if qx-qy == gx-gy: # na glavna dijagonala                                       #ako se naogjaat na glavna dijagonala i dvete kralici znaci deka koga kje im gi odzememe indeksite bi dobile nuli                                      \n",
    "        minx, maxx, miny = (qx, gx, qy) if qx < gx else (gx, qx, gy)                #e sega ako prvata kralica ni e na pozicija (1,1), a pak vtorata kralica na pozicija (3,3)\n",
    "                                                                                    #queen position neka e kralicata (1,1), a goel neka e (3,3)\n",
    "                                                                                    #minx kje e queen segasna pozicija, a max queen kje e goal\n",
    "                                                                                    #nema potreba od miny da go dademe deka e qy zatoa sto cim e po glavna dijagonala, toj so minx ima ista vrednost no dobro\n",
    "                    \n",
    "        for i in range(1, maxx-minx):                                               #ako segasno kralicata mi e na pozicija (1,1) a finalno e na (3,3) pa 3-1=2 znaci kje go izvrsi dodavanjeto+1 samo eden pat\n",
    "                                                                                    #koga kje go izvrsi kralicata kje bide na pozicijata 2,2 i ako na 2,2 ima precka togas ne moze direktno da se stigne od edna do druga\n",
    "            if state[miny+i][minx+i] != '·':\n",
    "                return False\n",
    "        return True\n",
    "    \n",
    "    if qx+qy == gx+gy: # na sporedna dijagonala                                     #analogno ova go pravi i za sporedna dijagonala\n",
    "                                                                                    #po sporedna dijagonala se (0,3) i (2,1) pa zbirot im e ednakov\n",
    "                                                                                    #minx e pomaliot po x a max x e pogolemiot po x za da ja dvizime dijagonalata levo kon gore desno\n",
    "                                                                                    #i pak se pridvizuvame vo odnos na nivnata razlik, i ako naideme na precki znaci deka ne mozeme da stigneme od pocetna do goal direktnoi :(\n",
    "        minx, maxx, miny = (qx, gx, qy) if qx < gx else (gx, qx, gy)\n",
    "        for i in range(1, maxx-minx):\n",
    "            if state[miny-i][minx+i] != '·':\n",
    "                return False\n",
    "        return True\n",
    "                                                                                    #ako dojde da go izvrsuva ovoj moment, toa znaci deka niedno od prethodnite ne dalo true odnosno po niedna pateka ednata kralica ne moze da stigne do drugata i soodvetno na ova, can reach directly e 0\n",
    "    return False\n",
    "   \n",
    "# do kolku polinja kralicata moze da stigne vo eden poteg\n",
    "                                                    \n",
    "def how_many_squares_in_one_move_evolved(state, queen_position):\n",
    "    how_many = 0 \n",
    "    for row_index, row in enumerate(state):                                                               #site redici\n",
    "        for col_index, element in enumerate(row):                                                         #site koloni gi izminuva\n",
    "            if element == '·':                                                                            #duri ne stigne do prazno pole (do nego i bi mozelo da stigne, nema poenta da proveruvame dali moze da stinge do drugata kralica \n",
    "                if can_reach_directly_evolved((col_index, row_index), queen_position, state):             #preckata ja postavuvame da ni bide goal position, a trgame od pozicija na nasata kralica\n",
    "                    how_many += 1                                                                         #ako funkcijata vratila eden toa znaci deka po nekoja pateka (po redici, koloni, glavna, sporedna dijagonala, nasata kralica moze da stigne do prazno mesto)\n",
    "    return how_many\n",
    "            \n",
    "\n",
    "# ispituva koja kralica ima poveke mobilnost (moze vo eden poteg da stigne do poveke polinja).\n",
    "# na izlez se vraka odreden score koj e megu -1 i 1 (ako e negativen broj, MIN kralicata ima\n",
    "# prednost. Ako e pozitiven, MAX kralicata e vo prednost\n",
    "\n",
    "\n",
    "#nie igrame so dve kralici star e max, pentagon e min\n",
    "def mobility(state):\n",
    "    s_position = find_queen(state, 'S')                                                                    #se povikuva na find_queen funkcijata od kodot za amazon vo auditoriski vezbi !!!!!!!!OVA MOZE DA MI POMOGNE MN ZA EVRISTIKA ZA CONNECT4 I TICTAC!!!!!!!!!\n",
    "    p_position = find_queen(state, 'P')\n",
    "    s_mobility = how_many_squares_in_one_move_evolved(state, s_position)                                   #i sega za star i pentagon kje pravi proverka za mobilnosta taka sto se ispituva cela tabla vo odnos na nivnite pozicii\n",
    "    p_mobility = how_many_squares_in_one_move_evolved(state, p_position)\n",
    "    return (s_mobility - p_mobility) / 19 # najmnogu ima do 19 polinja mobilnost                           #ako vrati s-p>0 znaci deka s ima pogolema mobilnost, a ako s-p<0 znaci deka pentagonot ima pogolema mobilnost\n",
    "                                          # toa e ako kralicata se naogja vo centarot na 6x6 tabla\n",
    "\n",
    "    \n",
    "    \n",
    "def chebyshev(pos_1, pos_2):\n",
    "    x1, y1 = pos_1\n",
    "    x2, y2 = pos_2\n",
    "    return max(abs(x1-x2), abs(y1-y2))\n",
    "\n",
    "\n",
    "# Ispituva koja kralica e poblisku do odredeno pole t.e. go *poseduva* toa pole\n",
    "# Ne e precizno bidejki ne zema vo predvid dali ima iksovci izmegu kralicata i odredenoto pole\n",
    "def who_owns_square(state, square_position):\n",
    "    s_position = find_queen(state, 'S')\n",
    "    p_position = find_queen(state, 'P')\n",
    "    s_dist = chebyshev(s_position, square_position)\n",
    "    p_dist = chebyshev(p_position, square_position)\n",
    "    if s_dist == p_dist:\n",
    "        return 0               \n",
    "#ako se na ednakvo rastojanie, niedna ne go poseduva\n",
    "#ako sdist<pdist znaci deka star e poblizu pa vrakja 1 (prednost za max)\n",
    "    return 1 if s_dist < p_dist else -1\n",
    "\n",
    "\n",
    "# Kazuva koja kralica e vo prednost, koga se raboti za brojot na polinja koi tie gi poseduvaat\n",
    "# Kralicata koja poseduva poveke polinja e vo prednost\n",
    "def territory(state):\n",
    "    score = 0\n",
    "    how_many_squares = 0\n",
    "    for row_index, row in enumerate(state):\n",
    "        for col_index, element in enumerate(row):\n",
    "            if element == '·':\n",
    "                how_many_squares += 1 # how_many_squares na krajot ke pokazuva kolku vkupno prazni polinja ima na tablata\n",
    "                score += who_owns_square(state, (col_index, row_index))                                                 #ako brojot e pozitiven znaci pocesto who_owns_square bil MAX otkolku MIN, pa znaci deka vo prednost e max \n",
    "    return score / how_many_squares\n",
    "\n",
    "\n",
    "# Kazuva kolku polinja direktno okolu kralicata se slobodni, podeleno so 8\n",
    "# (bidejki maksimum 8 polinja moze da se slobodni okolu kralicata\n",
    "def freedom_queen(state, symbol):\n",
    "    N = len(state)\n",
    "    how_many = 0\n",
    "    x, y = find_queen(state, symbol)\n",
    "    deltas = [\n",
    "        (0, 1), (0, -1), (1, 0), (-1, 0),\n",
    "        (1, 1), (1, -1), (-1, 1), (-1, -1)\n",
    "    ]\n",
    "    for dx, dy in deltas:\n",
    "        nx, ny = x + dx, y + dy\n",
    "        if 0 <= nx < N and 0 <= ny < N and state[ny][nx] == '·':\n",
    "            how_many += 1\n",
    "            nx += dx\n",
    "            ny += dy\n",
    "    return how_many/8\n",
    "\n",
    "\n",
    "# Dava score za koja kralica e poslobodna\n",
    "# Poslobodna e onaa kralica koja ima poveke polinja direktno okolu nea\n",
    "#bidejkji vo prednost povtorno e taa kralica sto sepak okolu nea ima povekje slobodni polinja \n",
    "def freedom(state):\n",
    "    freedom_s = freedom_queen(state, 'S')\n",
    "    freedom_p = freedom_queen(state, 'P')\n",
    "    return freedom_s - freedom_p\n",
    "\n",
    "\n",
    "# Konecnata evaluation function. Broevite se zemeni so testiranje.\n",
    "#kje se povikuva i za dvete funkcii za da \n",
    "def evaluate_state(state, symbol):\n",
    "    return (3*mobility(state) + territory(state) + freedom(state)) / 5"
   ]
  },
  {
   "cell_type": "markdown",
   "id": "6c2d90af-d109-4a76-8c1c-c949469f47f7",
   "metadata": {},
   "source": [
    "# Испит по Основи на Вештачката Интелигенција - 2/2\n",
    "\n",
    "**Датум**: 18.01.2023"
   ]
  },
  {
   "cell_type": "markdown",
   "id": "bb24373d-ec39-418e-a3eb-4d679effdfbe",
   "metadata": {},
   "source": [
    "## 2. Бело вино"
   ]
  },
  {
   "cell_type": "markdown",
   "id": "f5a2e595-75b7-4d87-89d5-a84dd3c10566",
   "metadata": {},
   "source": [
    "Разгледуваме множество податоци за бело вино. Целта е да умееме да разликуваме лошо, добро и одлично вино, имајќи го предвид хранливиот состав на производот. Податоците со кои располагаме се дадени во табелата подолу."
   ]
  },
  {
   "cell_type": "code",
   "execution_count": null,
   "id": "5a6c140d-1f51-4fec-a8c3-0c47c9ae7317",
   "metadata": {
    "tags": []
   },
   "outputs": [],
   "source": [
    "import pandas as pd"
   ]
  },
  {
   "cell_type": "code",
   "execution_count": null,
   "id": "92f58bfa-0f05-47c0-b3ea-f97f04db3503",
   "metadata": {
    "tags": []
   },
   "outputs": [],
   "source": [
    "df = pd.read_csv('WineQT.csv')\n",
    "df"
   ]
  },
  {
   "cell_type": "code",
   "execution_count": null,
   "id": "e12828ba-f876-4af0-803f-d1cee1d138a7",
   "metadata": {
    "tags": []
   },
   "outputs": [],
   "source": [
    "df.describe()"
   ]
  },
  {
   "cell_type": "markdown",
   "id": "516c71fa-5804-459e-a971-900de2cb2984",
   "metadata": {},
   "source": [
    "### Задача 2.1\n",
    "**(5 поени)** Објаснете на кој начин ни помага функцијата за ентропија кај дрвата за одлучување."
   ]
  },
  {
   "cell_type": "markdown",
   "id": "8cde5862-4096-4e61-a14f-bc8d3d53117a",
   "metadata": {},
   "source": [
    "* Entropijata se koristi za odreduvanje na informaciska pridobivka\n",
    "    * se odreduva koja podelba ni dava najgolema informaciska pridobivka, t.e. koja podelba ke e optimalna, i vo sledniot cekor drvoto se deli po taa optimalna podelba.\n",
    "    * Informaciskata pridobivka e razlika pomegu entropijata posle podelbata i entropijata na podatocnoto mnozestvo pred podelbata."
   ]
  },
  {
   "cell_type": "markdown",
   "id": "198c026e-98d1-4408-a5d5-feaffe2ef112",
   "metadata": {},
   "source": [
    "### Задача 2.2\n",
    "**(5 поени) (код)** Поделете го податочното множество на два дела. Поголемиот дел нека е 70% и ќе служи за тренирање, а помалиот дел од 30% ќе служи за проверка на повединието на алгоритмите кои ќе ги имплементирате понатаму."
   ]
  },
  {
   "cell_type": "code",
   "execution_count": null,
   "id": "ba30f33c-af2d-4b26-a2bd-74e1106f54ab",
   "metadata": {
    "tags": []
   },
   "outputs": [],
   "source": [
    "from sklearn.tree import DecisionTreeClassifier\n",
    "from sklearn.model_selection import train_test_split\n",
    "from sklearn.metrics import accuracy_score\n",
    "import plotly.express as px\n"
   ]
  },
  {
   "cell_type": "code",
   "execution_count": null,
   "id": "c114c81e-affe-4148-9d0c-3f42d47669bf",
   "metadata": {
    "tags": []
   },
   "outputs": [],
   "source": [
    "#Со оглед на тоа што податоците ни се расфрлани, сакаме да ги подредиме како што нам ни одговара.\n",
    "#Друг начин е и да ги извлечеме по редослед каков што ни одговара \n",
    "x = df[['fixed acidity', 'volatile acidity', 'citric acid', 'residual sugar', \n",
    "        'chlorides', 'free sulfur dioxide','total sulfur dioxide', 'density', \n",
    "        'pH', 'sulphates', 'alcohol']]\n",
    "y = df[['quality']]"
   ]
  },
  {
   "cell_type": "code",
   "execution_count": null,
   "id": "e69c865b-ad0d-4458-8dec-d4dba90e95a1",
   "metadata": {
    "tags": []
   },
   "outputs": [],
   "source": [
    "x_train, x_test, y_train, y_test = train_test_split(x, y, random_state=80, test_size=0.3)"
   ]
  },
  {
   "cell_type": "markdown",
   "id": "5c74cedc-491d-4b1b-bdfb-56787e3726a9",
   "metadata": {},
   "source": [
    "### Задача 2.3\n",
    "**(5 поени) (код)** Исцртајте ги на график вината така што на x оската ќе биде ph вредноста, на y оската ќе биде алкохолот, а квалитетот на вината ќе биде претставен со боја или симбол.\n",
    "\n",
    "**Совет**: За помош може да го искористите третиот пример `Setting size and color with column names` од [документацијата](https://plotly.com/python/line-and-scatter/) на плотли."
   ]
  },
  {
   "cell_type": "code",
   "execution_count": null,
   "id": "7a7151b2-bc26-4f27-8cd4-9e2750a59d50",
   "metadata": {
    "tags": []
   },
   "outputs": [],
   "source": [
    "px.scatter(df, x=\"pH\", y=\"alcohol\", color=\"quality\")"
   ]
  },
  {
   "cell_type": "markdown",
   "id": "792e06d6-5da3-4b26-bf0a-8ea6dc4dcd4f",
   "metadata": {},
   "source": [
    "### Задача 2.4\n",
    "**(5 поени) (код)** Користејќи ја библиотеката `sklearn`,  вчитајте класификатор - дрво за одлучување, претставен преку класата `DecisionTreeClassifier`, а потоа вметнете ги податоците за тренирање од вториот чекор за да ја истренирате мрежата.\n",
    "\n",
    "- [Пример за дрва за одлучување од sklearn](https://scikit-learn.org/stable/modules/tree.html)\n",
    "- [Документација за Decision Tree Classifier](https://scikit-learn.org/stable/modules/generated/sklearn.tree.DecisionTreeClassifier.html)"
   ]
  },
  {
   "cell_type": "code",
   "execution_count": null,
   "id": "c6ded77a-31db-424f-b05b-bbf8aad56281",
   "metadata": {
    "tags": []
   },
   "outputs": [],
   "source": [
    "clf=DecisionTreeClassifier(criterion='entropy')\n",
    "clf.fit(x_train, y_train)"
   ]
  },
  {
   "cell_type": "markdown",
   "id": "9ce92d66-ddc6-42ba-b9a2-8e02bd59a7d3",
   "metadata": {},
   "source": [
    "### Задача 2.5\n",
    "**(10 поени) (код)** Пресметајте ја прецизноста на алгоритамот за податоците кои тој ги нема видено (на кои нема тренирано). Потоа пресметајте ја прецизноста на алгоритамот за податоците кои ги има видено (на кои има тренирано). Споредете ги резултатите. Ви изгледаат ли во ред?"
   ]
  },
  {
   "cell_type": "code",
   "execution_count": null,
   "id": "4cb9cde3-47e0-4518-a965-7dc077a76420",
   "metadata": {
    "tags": []
   },
   "outputs": [],
   "source": [
    "accuracy_unseen_data=accuracy_score(y_test, clf.predict(x_test))\n",
    "accuracy_unseen_data"
   ]
  },
  {
   "cell_type": "code",
   "execution_count": null,
   "id": "161515b3-f70c-40c8-850c-a2d93c06034e",
   "metadata": {
    "tags": []
   },
   "outputs": [],
   "source": [
    "accuracy_seen_data=accuracy_score(y_train, clf.predict(x_train))\n",
    "accuracy_seen_data"
   ]
  },
  {
   "cell_type": "markdown",
   "id": "5e7e8785-58fb-4ca4-b7ff-0f79d05a9438",
   "metadata": {
    "tags": []
   },
   "source": [
    "Бидејќи прецизноста на невидени податоци е помала од прецизноста на видени, алгоритамот дава логични заклучоци."
   ]
  },
  {
   "cell_type": "markdown",
   "id": "04b726f0-cada-4375-90cf-d254f16213d5",
   "metadata": {},
   "source": [
    "### Задача 2.6\n",
    "**(5 поени) (код)** Кои вина алгоритамот успева да ги распознава подобро, оние со висок процент на алкохол (над 10.5%), или оние со низок процент на  алкохол (под 10.5%)?"
   ]
  },
  {
   "cell_type": "markdown",
   "id": "06bd12c0-8e12-4c73-9c61-05db22725b2a",
   "metadata": {
    "tags": []
   },
   "source": [
    "Ќе треба да направиме 2 табели: едната со вината со алкохол над 10.5% и едната со под 10.5%."
   ]
  },
  {
   "cell_type": "code",
   "execution_count": null,
   "id": "ae686441-f5d2-4d02-a5ff-ca607072e874",
   "metadata": {
    "tags": []
   },
   "outputs": [],
   "source": [
    "high_percentage_alc = df[df['alcohol'] > 10.5]\n",
    "x1 = high_percentage_alc[['fixed acidity', 'volatile acidity', 'citric acid', 'residual sugar', \n",
    "        'chlorides', 'free sulfur dioxide','total sulfur dioxide', 'density', \n",
    "        'pH', 'sulphates', 'alcohol']]\n",
    "y1 = high_percentage_alc[['quality']]\n",
    "x1"
   ]
  },
  {
   "cell_type": "code",
   "execution_count": null,
   "id": "b59585b5-eaf7-407e-ac6f-6307467211b2",
   "metadata": {
    "tags": []
   },
   "outputs": [],
   "source": [
    "accuracy_score(y1, clf.predict(x1))"
   ]
  },
  {
   "cell_type": "code",
   "execution_count": null,
   "id": "cb86da68-95da-4d9b-b2bc-e7233f356427",
   "metadata": {
    "tags": []
   },
   "outputs": [],
   "source": [
    "low_percentage_alc = df[df['alcohol'] <= 10.5]\n",
    "x2 = low_percentage_alc[['fixed acidity', 'volatile acidity', 'citric acid', 'residual sugar', \n",
    "        'chlorides', 'free sulfur dioxide','total sulfur dioxide', 'density', \n",
    "        'pH', 'sulphates', 'alcohol']]\n",
    "y2 = low_percentage_alc[['quality']]\n",
    "x2"
   ]
  },
  {
   "cell_type": "code",
   "execution_count": null,
   "id": "d4f6e3ee-9d45-4c1c-8449-6530013793dd",
   "metadata": {
    "tags": []
   },
   "outputs": [],
   "source": [
    "accuracy_score(y2, clf.predict(x2))"
   ]
  },
  {
   "cell_type": "markdown",
   "id": "3f109dda-3f12-4954-af84-7f081a3f3e81",
   "metadata": {},
   "source": [
    "Малку подобра прецизност дава за вината со повисок процент на алкохол."
   ]
  },
  {
   "cell_type": "markdown",
   "id": "9e9828e4-0f3b-409a-ab0a-e9c06f5c0bd1",
   "metadata": {},
   "source": [
    "### Задача 2.7\n",
    "**(5 поени)** Зошто за алгоритамот ID3 за градење на дрво се вели дека е алчен алгоритам?"
   ]
  },
  {
   "cell_type": "markdown",
   "id": "b85bb1ea-ed21-479d-a190-e6db8e87ea3c",
   "metadata": {},
   "source": [
    "* ID3 algoritmot e alcen bidejki drvoto za odlucuvanje go deli na alcen nacin\n",
    "    * toa znaci deka so sekoja iteracija, algoritmot alcno ja bara **optimalnata podelba** (onaa koja ke dovede do najgolema informaciska pridobivka)"
   ]
  },
  {
   "cell_type": "markdown",
   "id": "e1269ec1-8b5a-4716-9407-d3ad3915bb17",
   "metadata": {},
   "source": [
    "### Задача 2.8\n",
    "**(5 поени)** Колку се квалитетни вината од податочното множество од датотеката `winequality-white-test.csv`?"
   ]
  },
  {
   "cell_type": "markdown",
   "id": "d3b13164-de5a-4886-bd96-08934dc4329c",
   "metadata": {},
   "source": [
    "Според кодов, претпоставувам дека датотекава содржи и карактеристики и излез, па нам ни требаат само карактеристиките за да ги пуштиме на предвидување."
   ]
  },
  {
   "cell_type": "code",
   "execution_count": null,
   "id": "1e35f65d-0f02-45dc-a72f-af51aaebf77c",
   "metadata": {
    "tags": []
   },
   "outputs": [],
   "source": [
    "df = pd.read_csv('winequality-white-test.csv')\n",
    "df"
   ]
  },
  {
   "cell_type": "code",
   "execution_count": null,
   "id": "a2045ae1-bcb5-4eed-a502-67706565c031",
   "metadata": {},
   "outputs": [],
   "source": [
    "x = df[['fixed acidity', 'volatile acidity', 'citric acid', 'residual sugar', \n",
    "        'chlorides', 'free sulfur dioxide','total sulfur dioxide', 'density', \n",
    "        'pH', 'sulphates', 'alcohol']]\n",
    "clf.predict(x)"
   ]
  },
  {
   "cell_type": "markdown",
   "id": "b51324f8-9689-4307-9ff5-1f78c70f0ba4",
   "metadata": {},
   "source": [
    "* algoritmot predviduva dela vinoto so indeks 2 e odlicno, a ostanatite 3 se losi"
   ]
  },
  {
   "cell_type": "markdown",
   "id": "aca526c7-4feb-4cc6-9a40-fb834c18e54c",
   "metadata": {},
   "source": [
    "### Задача 2.9\n",
    "**(10 поени)** Исцртајте го дрвото, до длабочина 3!"
   ]
  },
  {
   "cell_type": "code",
   "execution_count": null,
   "id": "e6e92671-ac4f-478b-ac4c-0f6b99a6d68c",
   "metadata": {},
   "outputs": [],
   "source": [
    "df = pd.read_csv('winequality-white.csv')\n",
    "x = df[['fixed acidity', 'volatile acidity', 'citric acid', 'residual sugar', \n",
    "        'chlorides', 'free sulfur dioxide','total sulfur dioxide', 'density', \n",
    "        'pH', 'sulphates', 'alcohol']]\n",
    "y = df[['quality']]\n",
    "\n",
    "clf = tree.DecisionTreeClassifier(random_state=0)\n",
    "clf = clf.fit(x, y)"
   ]
  },
  {
   "cell_type": "code",
   "execution_count": null,
   "id": "86efeba0-f4ba-48a5-ac98-1ca0f50cc028",
   "metadata": {},
   "outputs": [],
   "source": [
    "# ne mi rabotese ova bidejki ne mozev da instaliram matplotlib\n",
    "from sklearn import tree\n",
    "tree.plot_tree(clf)"
   ]
  },
  {
   "cell_type": "code",
   "execution_count": null,
   "id": "2a60ab6d-bb0d-4f7b-8f8c-22e83b397465",
   "metadata": {},
   "outputs": [],
   "source": [
    "from sklearn.tree import export_text\n",
    "r = export_text(clf, max_depth=3)\n",
    "print(r)"
   ]
  }
 ],
 "metadata": {
  "kernelspec": {
   "display_name": "Python 3 (ipykernel)",
   "language": "python",
   "name": "python3"
  },
  "language_info": {
   "codemirror_mode": {
    "name": "ipython",
    "version": 3
   },
   "file_extension": ".py",
   "mimetype": "text/x-python",
   "name": "python",
   "nbconvert_exporter": "python",
   "pygments_lexer": "ipython3",
   "version": "3.11.5"
  }
 },
 "nbformat": 4,
 "nbformat_minor": 5
}
