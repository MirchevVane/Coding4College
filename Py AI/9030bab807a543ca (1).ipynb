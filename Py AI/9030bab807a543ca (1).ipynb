{
 "cells": [
  {
   "cell_type": "markdown",
   "id": "de6b208e",
   "metadata": {
    "tags": []
   },
   "source": [
    "# Втор парцијален испит по Основи на Вештачката Интелигенција - 2/2\n",
    "\n",
    "Датум: 22.01.2022"
   ]
  },
  {
   "cell_type": "markdown",
   "id": "b4cda08f",
   "metadata": {},
   "source": [
    "## 2. Пингвини"
   ]
  },
  {
   "cell_type": "markdown",
   "id": "4a3a0b47",
   "metadata": {},
   "source": [
    "Разгледуваме множество податоци за пингвини од Антарктикот. Целта е да умееме да разликуваме три навидум исти видови на пингвини според податоците со кои располагаме. Податоците со кои располагаме се дадени во табелата подолу."
   ]
  },
  {
   "cell_type": "code",
   "execution_count": 30,
   "id": "1c530331",
   "metadata": {
    "tags": []
   },
   "outputs": [],
   "source": [
    "from sklearn.tree import DecisionTreeClassifier\n",
    "from sklearn.model_selection import train_test_split\n",
    "from sklearn.metrics import accuracy_score\n",
    "import plotly.express as px"
   ]
  },
  {
   "cell_type": "code",
   "execution_count": 31,
   "id": "2f2a5614",
   "metadata": {
    "tags": []
   },
   "outputs": [
    {
     "ename": "AttributeError",
     "evalue": "'function' object has no attribute 'Image'",
     "output_type": "error",
     "traceback": [
      "\u001b[0;31m---------------------------------------------------------------------------\u001b[0m",
      "\u001b[0;31mAttributeError\u001b[0m                            Traceback (most recent call last)",
      "Cell \u001b[0;32mIn[31], line 1\u001b[0m\n\u001b[0;32m----> 1\u001b[0m display\u001b[38;5;241m.\u001b[39mImage(\u001b[38;5;124m'\u001b[39m\u001b[38;5;124mimages/penguins.jpg\u001b[39m\u001b[38;5;124m'\u001b[39m, width\u001b[38;5;241m=\u001b[39m\u001b[38;5;241m450\u001b[39m)\n",
      "\u001b[0;31mAttributeError\u001b[0m: 'function' object has no attribute 'Image'"
     ]
    }
   ],
   "source": [
    "display.Image('images/penguins.jpg', width=450)"
   ]
  },
  {
   "cell_type": "code",
   "execution_count": null,
   "id": "c030f4e9",
   "metadata": {
    "tags": []
   },
   "outputs": [],
   "source": [
    "display.Image('images/culmen.png', width=450)"
   ]
  },
  {
   "cell_type": "code",
   "execution_count": null,
   "id": "d8dba0e5",
   "metadata": {
    "tags": []
   },
   "outputs": [],
   "source": [
    "import pandas as pd"
   ]
  },
  {
   "cell_type": "code",
   "execution_count": null,
   "id": "9739ac2f",
   "metadata": {
    "tags": []
   },
   "outputs": [],
   "source": [
    "df = pd.read_csv('penguins.csv')\n",
    "df"
   ]
  },
  {
   "cell_type": "markdown",
   "id": "b54eb2c7",
   "metadata": {},
   "source": [
    "### 2.1 Прашања и задачи за невронски мрежи"
   ]
  },
  {
   "cell_type": "markdown",
   "id": "979b62c3",
   "metadata": {},
   "source": [
    "2.1.1. **(5 поени)** Објаснете што значи невронска мрежа. Замислете си дека одговарате на прашање поставено од дете од 5-то оделение."
   ]
  },
  {
   "cell_type": "markdown",
   "id": "57a21e7a",
   "metadata": {},
   "source": [
    "2.1.2. **(5 поени) (код)** Отстранете ги од табелата колоните со островот и полот на пингвините. Издвојте ја колоната `species` во нова променлива. Потоа поделете го податочното множество на два дела. Поголемиот дел нека е 80% и ќе служи за тренирање, а помалиот дел од 20% ќе служи за проверка на повединието на алгоритмите кои ќе ги имплементирате понатаму."
   ]
  },
  {
   "cell_type": "markdown",
   "id": "48a7c0d2-3f60-4c73-be6e-7e15053f48e6",
   "metadata": {},
   "source": [
    "Непотребни ни се островот и полот. Има повеќе начини да ги отстраниме\n",
    "1.направениот\n",
    "2.одново да ја дефинираме табелата така што ќе наведеме кои се колони ќе ги користиме\n",
    "(значи сите освен остров, пол и species-за која секако ќе направам нова променлива, таа е излез од карактеристиките)"
   ]
  },
  {
   "cell_type": "code",
   "execution_count": null,
   "id": "26f0d65f-4183-4e76-92f1-d55da28767d3",
   "metadata": {
    "tags": []
   },
   "outputs": [],
   "source": [
    "y=df[['species']]\n",
    "x=df[['culmen_length_mm' ,'culmen_depth_mm', 'flipper_length_mm','body_mass_g']]\n",
    "x"
   ]
  },
  {
   "cell_type": "code",
   "execution_count": null,
   "id": "53b013a3-6e04-428a-98ca-9e91158422a3",
   "metadata": {
    "tags": []
   },
   "outputs": [],
   "source": [
    "x_train, x_test, y_train, y_test = train_test_split(x, y, test_size=0.2, random_state=80)\n",
    "x_train"
   ]
  },
  {
   "cell_type": "markdown",
   "id": "bf2d3105",
   "metadata": {},
   "source": [
    "2.1.3. **(5 поени) (код)** Исцртајте ги на график пингвините така што на x и y оските ќе биде големината на клунот (culmen), а класата на пингвините ќе биде претставена со боја или симбол.\n",
    "\n",
    "**Совет**: За помош може да го искористите третиот пример `Setting size and color with column names` од [документацијата](https://plotly.com/python/line-and-scatter/) на плотли."
   ]
  },
  {
   "cell_type": "code",
   "execution_count": null,
   "id": "bc8e81b0-2b3b-4561-a73f-df9e0c7385da",
   "metadata": {
    "tags": []
   },
   "outputs": [],
   "source": [
    "px.scatter(df, x=\"culmen_length_mm\", y=\"culmen_depth_mm\", color=\"species\")"
   ]
  },
  {
   "cell_type": "markdown",
   "id": "e893d71b",
   "metadata": {},
   "source": [
    "2.1.4. **(5 поени) (код)** Користејќи ја библиотеката `sklearn`,  вчитајте невронска мрежа од типот `Multi-layer Perceptron`, претставено преку класата `MLPClassifier`, а потоа вметнети ги податоците за тренирање од вториот чекор за да ја истренирате мрежата.\n",
    "\n",
    "- [Пример за невронски мрежи од sklearn](https://scikit-learn.org/stable/modules/neural_networks_supervised.html#multi-layer-perceptron)\n",
    "- [Документација за Multi-layer Perceptron](https://scikit-learn.org/stable/modules/generated/sklearn.neural_network.MLPClassifier.html#sklearn.neural_network.MLPClassifier)"
   ]
  },
  {
   "cell_type": "code",
   "execution_count": null,
   "id": "17675e93-5ca4-438f-8ad0-75cd146a94b9",
   "metadata": {
    "tags": []
   },
   "outputs": [],
   "source": [
    "from sklearn.neural_network import MLPClassifier\n",
    "clf=MLPClassifier()\n",
    "clf"
   ]
  },
  {
   "cell_type": "code",
   "execution_count": null,
   "id": "abe8eb88-88e2-43d3-8396-d8dfc69808c2",
   "metadata": {
    "tags": []
   },
   "outputs": [],
   "source": [
    "clf.fit(x_train,y_train)"
   ]
  },
  {
   "cell_type": "markdown",
   "id": "5dee741b",
   "metadata": {},
   "source": [
    "2.1.5. **(5 поени)** Што значи претренирана мрежа (overfitting), а што значи подтренирана мрежа (underfitting)? Како ќе знаеме дека мрежата истренирала како што треба?"
   ]
  },
  {
   "cell_type": "markdown",
   "id": "72eb82ae-84ff-429d-8b48-1faf69cd341f",
   "metadata": {},
   "source": [
    "-Претренирана мрежа: кога моделот ќе се обучи со толку многу податоци, тој ќе почне да учи од бучавата\n",
    "Резултира со висока варијанса(грешка поради чувствителноста на моделот на флуктуации во податоците за тренирање,\n",
    "Подтренирана мрежа: кога моделот е премногу едноставен за да се долови сложеноста на податоците, тоа претставува неспособност на моделот да ги научи податоците за тренирање што резултира со слаби перформанси.\n",
    "                "
   ]
  },
  {
   "cell_type": "markdown",
   "id": "96b95af4",
   "metadata": {},
   "source": [
    "2.1.6. **(5 поени) (код)** Пресметајте ја прецизноста на мрежата за податоците кои мрежата ги нема видено (на кои нема тренирано). Потоа пресметајте ја прецизноста на мрежата за податоците кои ги има видено (на кои има тренирано). Споредете ги резултатите. Ви изгледаат ли во ред?"
   ]
  },
  {
   "cell_type": "code",
   "execution_count": null,
   "id": "1925b7ba",
   "metadata": {
    "tags": []
   },
   "outputs": [],
   "source": [
    "from sklearn.metrics import accuracy_score"
   ]
  },
  {
   "cell_type": "code",
   "execution_count": null,
   "id": "13bdf8b9-d36e-4fab-a5a8-18c1bfbd5c36",
   "metadata": {
    "tags": []
   },
   "outputs": [],
   "source": [
    "accuracy_seen_data=accuracy_score(y_train, clf.predict(x_train))\n",
    "accuracy_seen_data"
   ]
  },
  {
   "cell_type": "code",
   "execution_count": null,
   "id": "0c2ead9c-439e-47b6-ada8-974904506fa8",
   "metadata": {
    "tags": []
   },
   "outputs": [],
   "source": [
    "accuracy_unseen_data=accuracy_score(y_test, clf.predict(x_test))\n",
    "accuracy_unseen_data"
   ]
  },
  {
   "cell_type": "markdown",
   "id": "606cf3ee",
   "metadata": {},
   "source": [
    "2.1.7. **(5 поени) (код)** Кои пингвини мрежата успева да ги распознава подобро, машките или женските?\n"
   ]
  },
  {
   "cell_type": "markdown",
   "id": "41b059f6-d33a-4588-8d98-1b6eae55a502",
   "metadata": {},
   "source": [
    "!!!!!!!!!! не сум сигурна што да правам тука бидејќи податоците машки женски не ми се досега познати !!!!!!!!!!"
   ]
  },
  {
   "cell_type": "markdown",
   "id": "1db269b7",
   "metadata": {},
   "source": [
    "2.2.1. **(5 поени)** Како се пресметува информациската придобивка кај алгоритмите за дрва за одлучување?"
   ]
  },
  {
   "cell_type": "raw",
   "id": "a7568786-bba7-47ce-93f0-c5e88bbf1dca",
   "metadata": {},
   "source": [
    "-се пресметува така што се одзема ентропијата пред направената поделба и по направената поделба. Колку е подобра направената поделба (колку подобро го дели\n",
    "множеството податоци), толку подобра и ќе биде информациската придобивка. \n",
    "При градење дрво со ИД3 алгоритамот, информациската придобивка е многу важен фактор затоа што главниот јазел на поделба ќе биде избран така што истиот\n",
    "прави поделба со најголема информациска придобивка."
   ]
  },
  {
   "cell_type": "markdown",
   "id": "79915943",
   "metadata": {},
   "source": [
    "2.2.2. **(25 поени) (код)** За множеството податоци со пингвини, пресметајте кој признак (карактеристика) најдобро го дели множеството според теоријата за информациска придобивка. Колкава е информациската придобивка при поделбата на множеството со избраниот признак?\n",
    "\n",
    "**Совет**: Колоните од табелата кои имаат континуални вредности (оние изразени во милиметри и грамови), заменете ги со конечни бинарни вредности така што за секоја колона ќе поставите прашање дали одредена вредност во колоната е повисока или пониска од средната вредност на самата колона. Не мора да го градите целото дрво, доволно е само првата поделба."
   ]
  },
  {
   "cell_type": "code",
   "execution_count": 24,
   "id": "a380a66d",
   "metadata": {},
   "outputs": [
    {
     "data": {
      "text/html": [
       "<div>\n",
       "<style scoped>\n",
       "    .dataframe tbody tr th:only-of-type {\n",
       "        vertical-align: middle;\n",
       "    }\n",
       "\n",
       "    .dataframe tbody tr th {\n",
       "        vertical-align: top;\n",
       "    }\n",
       "\n",
       "    .dataframe thead th {\n",
       "        text-align: right;\n",
       "    }\n",
       "</style>\n",
       "<table border=\"1\" class=\"dataframe\">\n",
       "  <thead>\n",
       "    <tr style=\"text-align: right;\">\n",
       "      <th></th>\n",
       "      <th>species</th>\n",
       "      <th>island</th>\n",
       "      <th>culmen_length_mm</th>\n",
       "      <th>culmen_depth_mm</th>\n",
       "      <th>flipper_length_mm</th>\n",
       "      <th>body_mass_g</th>\n",
       "      <th>sex</th>\n",
       "    </tr>\n",
       "  </thead>\n",
       "  <tbody>\n",
       "    <tr>\n",
       "      <th>0</th>\n",
       "      <td>Adelie</td>\n",
       "      <td>Torgersen</td>\n",
       "      <td>39.1</td>\n",
       "      <td>18.7</td>\n",
       "      <td>181</td>\n",
       "      <td>3750</td>\n",
       "      <td>MALE</td>\n",
       "    </tr>\n",
       "    <tr>\n",
       "      <th>1</th>\n",
       "      <td>Adelie</td>\n",
       "      <td>Torgersen</td>\n",
       "      <td>39.5</td>\n",
       "      <td>17.4</td>\n",
       "      <td>186</td>\n",
       "      <td>3800</td>\n",
       "      <td>FEMALE</td>\n",
       "    </tr>\n",
       "    <tr>\n",
       "      <th>2</th>\n",
       "      <td>Adelie</td>\n",
       "      <td>Torgersen</td>\n",
       "      <td>40.3</td>\n",
       "      <td>18.0</td>\n",
       "      <td>195</td>\n",
       "      <td>3250</td>\n",
       "      <td>FEMALE</td>\n",
       "    </tr>\n",
       "    <tr>\n",
       "      <th>3</th>\n",
       "      <td>Adelie</td>\n",
       "      <td>Torgersen</td>\n",
       "      <td>36.7</td>\n",
       "      <td>19.3</td>\n",
       "      <td>193</td>\n",
       "      <td>3450</td>\n",
       "      <td>FEMALE</td>\n",
       "    </tr>\n",
       "    <tr>\n",
       "      <th>4</th>\n",
       "      <td>Adelie</td>\n",
       "      <td>Torgersen</td>\n",
       "      <td>39.3</td>\n",
       "      <td>20.6</td>\n",
       "      <td>190</td>\n",
       "      <td>3650</td>\n",
       "      <td>MALE</td>\n",
       "    </tr>\n",
       "    <tr>\n",
       "      <th>...</th>\n",
       "      <td>...</td>\n",
       "      <td>...</td>\n",
       "      <td>...</td>\n",
       "      <td>...</td>\n",
       "      <td>...</td>\n",
       "      <td>...</td>\n",
       "      <td>...</td>\n",
       "    </tr>\n",
       "    <tr>\n",
       "      <th>328</th>\n",
       "      <td>Gentoo</td>\n",
       "      <td>Biscoe</td>\n",
       "      <td>47.2</td>\n",
       "      <td>13.7</td>\n",
       "      <td>214</td>\n",
       "      <td>4925</td>\n",
       "      <td>FEMALE</td>\n",
       "    </tr>\n",
       "    <tr>\n",
       "      <th>329</th>\n",
       "      <td>Gentoo</td>\n",
       "      <td>Biscoe</td>\n",
       "      <td>46.8</td>\n",
       "      <td>14.3</td>\n",
       "      <td>215</td>\n",
       "      <td>4850</td>\n",
       "      <td>FEMALE</td>\n",
       "    </tr>\n",
       "    <tr>\n",
       "      <th>330</th>\n",
       "      <td>Gentoo</td>\n",
       "      <td>Biscoe</td>\n",
       "      <td>50.4</td>\n",
       "      <td>15.7</td>\n",
       "      <td>222</td>\n",
       "      <td>5750</td>\n",
       "      <td>MALE</td>\n",
       "    </tr>\n",
       "    <tr>\n",
       "      <th>331</th>\n",
       "      <td>Gentoo</td>\n",
       "      <td>Biscoe</td>\n",
       "      <td>45.2</td>\n",
       "      <td>14.8</td>\n",
       "      <td>212</td>\n",
       "      <td>5200</td>\n",
       "      <td>FEMALE</td>\n",
       "    </tr>\n",
       "    <tr>\n",
       "      <th>332</th>\n",
       "      <td>Gentoo</td>\n",
       "      <td>Biscoe</td>\n",
       "      <td>49.9</td>\n",
       "      <td>16.1</td>\n",
       "      <td>213</td>\n",
       "      <td>5400</td>\n",
       "      <td>MALE</td>\n",
       "    </tr>\n",
       "  </tbody>\n",
       "</table>\n",
       "<p>333 rows × 7 columns</p>\n",
       "</div>"
      ],
      "text/plain": [
       "    species     island  culmen_length_mm  culmen_depth_mm  flipper_length_mm  \\\n",
       "0    Adelie  Torgersen              39.1             18.7                181   \n",
       "1    Adelie  Torgersen              39.5             17.4                186   \n",
       "2    Adelie  Torgersen              40.3             18.0                195   \n",
       "3    Adelie  Torgersen              36.7             19.3                193   \n",
       "4    Adelie  Torgersen              39.3             20.6                190   \n",
       "..      ...        ...               ...              ...                ...   \n",
       "328  Gentoo     Biscoe              47.2             13.7                214   \n",
       "329  Gentoo     Biscoe              46.8             14.3                215   \n",
       "330  Gentoo     Biscoe              50.4             15.7                222   \n",
       "331  Gentoo     Biscoe              45.2             14.8                212   \n",
       "332  Gentoo     Biscoe              49.9             16.1                213   \n",
       "\n",
       "     body_mass_g     sex  \n",
       "0           3750    MALE  \n",
       "1           3800  FEMALE  \n",
       "2           3250  FEMALE  \n",
       "3           3450  FEMALE  \n",
       "4           3650    MALE  \n",
       "..           ...     ...  \n",
       "328         4925  FEMALE  \n",
       "329         4850  FEMALE  \n",
       "330         5750    MALE  \n",
       "331         5200  FEMALE  \n",
       "332         5400    MALE  \n",
       "\n",
       "[333 rows x 7 columns]"
      ]
     },
     "execution_count": 24,
     "metadata": {},
     "output_type": "execute_result"
    }
   ],
   "source": [
    "df"
   ]
  },
  {
   "cell_type": "code",
   "execution_count": 25,
   "id": "3ddb410c",
   "metadata": {},
   "outputs": [
    {
     "data": {
      "text/plain": [
       "43.99279279279279"
      ]
     },
     "execution_count": 25,
     "metadata": {},
     "output_type": "execute_result"
    }
   ],
   "source": [
    "df.culmen_length_mm.mean()"
   ]
  },
  {
   "cell_type": "code",
   "execution_count": 26,
   "id": "d90832b5",
   "metadata": {},
   "outputs": [
    {
     "data": {
      "text/plain": [
       "17.164864864864864"
      ]
     },
     "execution_count": 26,
     "metadata": {},
     "output_type": "execute_result"
    }
   ],
   "source": [
    "df.culmen_depth_mm.mean()"
   ]
  },
  {
   "cell_type": "code",
   "execution_count": 27,
   "id": "5f7204e5",
   "metadata": {},
   "outputs": [
    {
     "data": {
      "text/plain": [
       "200.96696696696696"
      ]
     },
     "execution_count": 27,
     "metadata": {},
     "output_type": "execute_result"
    }
   ],
   "source": [
    "df.flipper_length_mm.mean()"
   ]
  },
  {
   "cell_type": "code",
   "execution_count": 28,
   "id": "dd47cb72-1ac0-4475-96e4-6efa45b26a0b",
   "metadata": {
    "tags": []
   },
   "outputs": [
    {
     "data": {
      "text/plain": [
       "4207.057057057057"
      ]
     },
     "execution_count": 28,
     "metadata": {},
     "output_type": "execute_result"
    }
   ],
   "source": [
    "df.body_mass_g.mean()"
   ]
  },
  {
   "cell_type": "raw",
   "id": "b4666f20-120f-4301-a429-df046b1d90fd",
   "metadata": {},
   "source": [
    "за бројчаните вредности ќе применувам точно/неточнио"
   ]
  },
  {
   "cell_type": "code",
   "execution_count": null,
   "id": "a66863a0-4b62-45f9-a024-9d39d1677f1e",
   "metadata": {},
   "outputs": [],
   "source": [
    "Работам за начин да излез ми е полот, наместо класите (не знам да правам ентропија од 3 члена)."
   ]
  }
 ],
 "metadata": {
  "kernelspec": {
   "display_name": "Python 3 (ipykernel)",
   "language": "python",
   "name": "python3"
  },
  "language_info": {
   "codemirror_mode": {
    "name": "ipython",
    "version": 3
   },
   "file_extension": ".py",
   "mimetype": "text/x-python",
   "name": "python",
   "nbconvert_exporter": "python",
   "pygments_lexer": "ipython3",
   "version": "3.11.5"
  }
 },
 "nbformat": 4,
 "nbformat_minor": 5
}
