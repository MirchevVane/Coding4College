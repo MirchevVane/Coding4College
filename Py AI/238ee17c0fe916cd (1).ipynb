{
 "cells": [
  {
   "cell_type": "markdown",
   "id": "12643f27-b542-45b5-9f7f-087e37ce0756",
   "metadata": {
    "tags": []
   },
   "source": [
    "# Пингвини\n",
    "\n",
    "## Лабораториска вежба 7"
   ]
  },
  {
   "cell_type": "markdown",
   "id": "24735ee9",
   "metadata": {},
   "source": [
    "Разгледуваме множество податоци за пингвини од Антарктикот. Целта е да умееме да разликуваме три навидум исти видови на пингвини според податоците со кои располагаме. Податоците со кои располагаме се дадени во табелата подолу."
   ]
  },
  {
   "cell_type": "code",
   "execution_count": null,
   "id": "ef65ccee",
   "metadata": {
    "tags": []
   },
   "outputs": [],
   "source": [
    "from IPython import display"
   ]
  },
  {
   "cell_type": "code",
   "execution_count": null,
   "id": "675d76d3",
   "metadata": {
    "tags": []
   },
   "outputs": [],
   "source": [
    "display.Image('images/penguins.jpg', width=450)"
   ]
  },
  {
   "cell_type": "code",
   "execution_count": null,
   "id": "76c3b3b3",
   "metadata": {
    "tags": []
   },
   "outputs": [],
   "source": [
    "display.Image('images/culmen.png', width=450)"
   ]
  },
  {
   "cell_type": "code",
   "execution_count": null,
   "id": "85c8ff86",
   "metadata": {
    "tags": []
   },
   "outputs": [],
   "source": [
    "import pandas as pd"
   ]
  },
  {
   "cell_type": "code",
   "execution_count": null,
   "id": "bce1e1c7",
   "metadata": {
    "tags": []
   },
   "outputs": [],
   "source": [
    "df = pd.read_csv('penguins.csv')\n",
    "df"
   ]
  },
  {
   "cell_type": "markdown",
   "id": "42dd3d7a",
   "metadata": {},
   "source": [
    "Издвојте ја колоната `species` во нова променлива. Потоа поделете го податочното множество на два дела. Поголемиот дел нека е 80% и ќе служи за тренирање, а помалиот дел од 20% ќе служи за проверка на повединието на алгоритмите кои ќе ги имплементирате понатаму."
   ]
  },
  {
   "cell_type": "code",
   "execution_count": null,
   "id": "7e9868f9",
   "metadata": {
    "tags": []
   },
   "outputs": [],
   "source": [
    "#vo sp kje ja smestam kolonata species\n",
    "y=df.species\n",
    "x=df.iloc[:,1:]\n",
    "\n",
    "#mnozestvoto podatoci kje go podelam na train i test i se povikuva na sl;earm.model....\n",
    "from sklearn.model_selection import train_test_split\n",
    "#species e toa sto treba da bide pogodeno, mene vekje mi e izdvoeno vo druga promenliva y (sto pak kje ja podelam na train i test), no mi trebaat i priznacite\n",
    "#a priznacite se socenite od site tabeli osven species\n"
   ]
  },
  {
   "cell_type": "code",
   "execution_count": null,
   "id": "00b64439-260c-4737-8166-43877bd6cd3d",
   "metadata": {
    "tags": []
   },
   "outputs": [],
   "source": [
    "x_train, x_test, y_train, y_test = train_test_split(x, y, test_size=0.2, random_state=80)\n",
    "x_train"
   ]
  },
  {
   "cell_type": "markdown",
   "id": "39c89554",
   "metadata": {},
   "source": [
    "Исцртајте ги на график пингвините така што на x и y оските ќе биде големината на клунот (culmen), а класата на пингвините ќе биде претставена со боја или симбол.\n",
    "\n",
    "**Совет**: За помош, искористите го примерот `Setting size and color with column names` од [документацијата](https://plotly.com/python/line-and-scatter/) на плотли."
   ]
  },
  {
   "cell_type": "code",
   "execution_count": null,
   "id": "2539a45a",
   "metadata": {
    "tags": []
   },
   "outputs": [],
   "source": [
    "import plotly.express as px\n",
    "px.scatter(df, x=\"culmen_length_mm\", y=\"culmen_depth_mm\", color=\"species\")"
   ]
  },
  {
   "cell_type": "markdown",
   "id": "c6d64632",
   "metadata": {},
   "source": [
    "Користејќи ја библиотеката `sklearn`,  вчитајте невронска мрежа од типот `Multi-layer Perceptron`, претставено преку класата `MLPClassifier`, а потоа вметнете ги податоците за тренирање за да ја истренирате мрежата.\n",
    "\n",
    "- [Пример за невронски мрежи од sklearn](https://scikit-learn.org/stable/modules/neural_networks_supervised.html#multi-layer-perceptron)\n",
    "- [Документација за Multi-layer Perceptron](https://scikit-learn.org/stable/modules/generated/sklearn.neural_network.MLPClassifier.html#sklearn.neural_network.MLPClassifier)"
   ]
  },
  {
   "cell_type": "code",
   "execution_count": null,
   "id": "cc87f0a4",
   "metadata": {
    "tags": []
   },
   "outputs": [],
   "source": [
    "from sklearn.neural_network import MLPClassifier\n",
    "clf=MLPClassifier()\n",
    "clf\n"
   ]
  },
  {
   "cell_type": "code",
   "execution_count": null,
   "id": "8ec9cfe0-41e7-4698-ab37-f6cd710a9ccd",
   "metadata": {
    "tags": []
   },
   "outputs": [],
   "source": [
    "species=df['species']\n",
    "island=df['island']\n",
    "sex=df['sex']"
   ]
  },
  {
   "cell_type": "code",
   "execution_count": null,
   "id": "5e570bdd-72ad-4214-a1c4-478bd34ba963",
   "metadata": {
    "tags": []
   },
   "outputs": [],
   "source": [
    "from sklearn.preprocessing import LabelEncoder\n",
    "le=LabelEncoder()\n",
    "le.fit(species)\n",
    "list(le.classes_)\n",
    "sp=le.transform(species)\n",
    "sp"
   ]
  },
  {
   "cell_type": "code",
   "execution_count": null,
   "id": "142a3a62-b860-478e-8026-ee866df6cd29",
   "metadata": {
    "tags": []
   },
   "outputs": [],
   "source": [
    "le.fit(island)\n",
    "list(le.classes_)\n",
    "il=le.transform(island)\n",
    "il"
   ]
  },
  {
   "cell_type": "code",
   "execution_count": null,
   "id": "7eab8c91-b125-4024-a028-0f2adf8b4b2c",
   "metadata": {
    "tags": []
   },
   "outputs": [],
   "source": [
    "le.fit(sex)\n",
    "list(le.classes_)\n",
    "s=le.transform(sex)\n",
    "s"
   ]
  },
  {
   "cell_type": "code",
   "execution_count": null,
   "id": "1b75ed31-c1a0-42f8-a05b-b79ac948f71d",
   "metadata": {
    "tags": []
   },
   "outputs": [],
   "source": [
    "df['species']=sp\n",
    "df['island']=il\n",
    "df['sex']=s\n",
    "df"
   ]
  },
  {
   "cell_type": "code",
   "execution_count": null,
   "id": "19ce44b6-698b-4785-8d01-b18de9c6ba16",
   "metadata": {
    "tags": []
   },
   "outputs": [],
   "source": [
    "y=df.species\n",
    "y\n"
   ]
  },
  {
   "cell_type": "code",
   "execution_count": null,
   "id": "171cb4af-ab16-456d-8b98-5c11b2f5f3e8",
   "metadata": {
    "tags": []
   },
   "outputs": [],
   "source": [
    "x=df.iloc[:, 1:]\n",
    "x"
   ]
  },
  {
   "cell_type": "code",
   "execution_count": null,
   "id": "2d0abc9d-7ab8-4b8a-ad6b-fc1557ff7f16",
   "metadata": {
    "tags": []
   },
   "outputs": [],
   "source": [
    "x_train, x_test, y_train, y_test = train_test_split(x, y, test_size=0.2, random_state=80)\n",
    "x_test"
   ]
  },
  {
   "cell_type": "code",
   "execution_count": null,
   "id": "eaebd72b-8e39-41fe-8cb2-3c26a4a36749",
   "metadata": {
    "tags": []
   },
   "outputs": [],
   "source": [
    "clf.fit(x_train, y_train)"
   ]
  },
  {
   "cell_type": "code",
   "execution_count": null,
   "id": "c35b5566-ef09-4f12-9f26-081df5bed631",
   "metadata": {
    "tags": []
   },
   "outputs": [],
   "source": [
    "#preciznost za nevideni i videni\n",
    "from sklearn.metrics import accuracy_score\n"
   ]
  },
  {
   "cell_type": "code",
   "execution_count": null,
   "id": "46345820-0470-4b61-9cd3-ae7498967d5c",
   "metadata": {
    "tags": []
   },
   "outputs": [],
   "source": [
    "accuracy_prediction=accuracy_score(y_test, clf.predict(x_test))\n",
    "accuracy_prediction"
   ]
  },
  {
   "cell_type": "code",
   "execution_count": null,
   "id": "9143a5e5-b21e-4d18-b99a-975f30e311fb",
   "metadata": {
    "tags": []
   },
   "outputs": [],
   "source": [
    "accuracy_seen=accuracy_score(y_train, clf.predict(x_train))\n",
    "accuracy_seen"
   ]
  },
  {
   "cell_type": "markdown",
   "id": "35b8430f-fdfb-463a-b7ad-9fc8b68b1594",
   "metadata": {},
   "source": [
    "Tuka dobiv nekarakteristicen slucaj: algoritamot podobro da mi predviduva na nevideni otkolku videni podatoci. Stefan rece deka situacijava e mozna,\n",
    "a se slucila poradi nesrekjno izbran random state.\n",
    "Vo drugata tetratka istoto go napraviv ama so drug random_state i dobiv logicen moment."
   ]
  },
  {
   "cell_type": "markdown",
   "id": "c162fd38",
   "metadata": {},
   "source": [
    "Пресметајте ја прецизноста на мрежата за податоците кои мрежата ги нема видено (на кои нема тренирано). Потоа пресметајте ја прецизноста на мрежата за податоците кои ги има видено (на кои има тренирано). Споредете ги резултатите. Ви изгледаат ли во ред?"
   ]
  },
  {
   "cell_type": "markdown",
   "id": "e45fd747",
   "metadata": {},
   "source": [
    "Кои пингвини мрежата успева да ги распознава подобро, машките или женските?"
   ]
  },
  {
   "cell_type": "code",
   "execution_count": null,
   "id": "83386348-81cc-4be2-9a0f-dc9d9477b76c",
   "metadata": {},
   "outputs": [],
   "source": []
  },
  {
   "cell_type": "markdown",
   "id": "481caee7-f02c-47a9-a2ec-b42f966c52fd",
   "metadata": {},
   "source": [
    "Од кој вид е даден машки пингвин со признаци `culmen_length_mm = 72`, `culmen_depth_mm = 34`, `flipper_length_mm = 202`, `body_mass_g = 4450`, и е пронајден на островот Торгерсен?"
   ]
  },
  {
   "cell_type": "code",
   "execution_count": null,
   "id": "dbb28a52-09f2-48b9-9e66-37bf53b2fbc3",
   "metadata": {},
   "outputs": [],
   "source": []
  }
 ],
 "metadata": {
  "kernelspec": {
   "display_name": "Python 3 (ipykernel)",
   "language": "python",
   "name": "python3"
  },
  "language_info": {
   "codemirror_mode": {
    "name": "ipython",
    "version": 3
   },
   "file_extension": ".py",
   "mimetype": "text/x-python",
   "name": "python",
   "nbconvert_exporter": "python",
   "pygments_lexer": "ipython3",
   "version": "3.11.5"
  }
 },
 "nbformat": 4,
 "nbformat_minor": 5
}
