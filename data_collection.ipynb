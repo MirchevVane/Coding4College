{
 "cells": [
  {
   "cell_type": "code",
   "execution_count": null,
   "id": "4bf0d6aa-a727-4a7a-b7cc-1e2d0fe04a86",
   "metadata": {
    "tags": []
   },
   "outputs": [],
   "source": [
    "import traitlets\n",
    "# import ipywidgets.widgets as widgets\n",
    "import ipywidgets.widgets as widgets\n",
    "from IPython.display import display\n",
    "\n",
    "from jetbot import Camera, bgr8_to_jpeg\n",
    "camera = Camera.instance(width=224, height=224)\n",
    "image = widgets.Image(format='jpeg', width=224, height=224)\n",
    "camera_link = traitlets.dlink((camera, 'value'), (image, 'value'), transform=bgr8_to_jpeg)\n",
    "display(image)"
   ]
  },
  {
   "cell_type": "code",
   "execution_count": 6,
   "id": "4a9289e8-579d-4e43-a161-f3b6e3b88467",
   "metadata": {},
   "outputs": [],
   "source": [
    "import os\n",
    "import datetime\n",
    "\n",
    "# Get the current date and time\n",
    "now = datetime.datetime.now()\n",
    "date = now.strftime(\"%d\")\n",
    "time = now.strftime(\"%H_%M\")\n",
    "\n",
    "# Create the directory with the current date and time as the name\n",
    "dataset_dir = f\"dataset/{date}/{time}\"\n",
    "try:\n",
    "    os.makedirs(dataset_dir)\n",
    "except FileExistsError:\n",
    "    print(f\"{dataset_dir} directory already exists\")"
   ]
  },
  {
   "cell_type": "code",
   "execution_count": 7,
   "id": "03f7746c-e472-49cb-ae27-c3c831b5b365",
   "metadata": {},
   "outputs": [],
   "source": [
    "import ipywidgets as widgets"
   ]
  },
  {
   "cell_type": "code",
   "execution_count": 8,
   "id": "3fd43437-acac-43fa-b2ac-2d6a7953ba79",
   "metadata": {},
   "outputs": [
    {
     "data": {
      "application/vnd.jupyter.widget-view+json": {
       "model_id": "cc2ba76ffebe4fc3a83de984dcae5ef1",
       "version_major": 2,
       "version_minor": 0
      },
      "text/plain": [
       "HBox(children=(IntText(value=0, layout=Layout(height='64px', width='128px')), Button(button_style='success', d…"
      ]
     },
     "metadata": {},
     "output_type": "display_data"
    }
   ],
   "source": [
    "button_layout = widgets.Layout(width='128px', height='64px')\n",
    "button = widgets.Button(description='add_image', button_style='success', layout=button_layout)\n",
    "count = widgets.IntText(layout=button_layout, value=len(os.listdir(dataset_dir)))\n",
    "\n",
    "display(widgets.HBox([count, button]))"
   ]
  },
  {
   "cell_type": "code",
   "execution_count": null,
   "id": "b0830db5-bb86-4d27-9dcf-98fd9ac7022c",
   "metadata": {},
   "outputs": [],
   "source": [
    "from uuid import uuid1\n",
    "\n",
    "def save_snapshot(directory):\n",
    "    image_path = os.path.join(directory, str(uuid1()) + '.jpg')\n",
    "    with open(image_path, 'wb') as f:\n",
    "        f.write(image.value)\n",
    "\n",
    "def save():\n",
    "    global dataset_dir, count\n",
    "    save_snapshot(dataset_dir)\n",
    "    count.value = len(os.listdir(dataset_dir))\n",
    "    \n",
    "# attach the callbacks, we use a 'lambda' function to ignore the\n",
    "# parameter that the on_click event would provide to our function\n",
    "# because we don't need it.\n",
    "button.on_click(lambda x: save())"
   ]
  },
  {
   "cell_type": "code",
   "execution_count": null,
   "id": "807a0a4b-55cf-4e6f-94b6-d30c9876629d",
   "metadata": {},
   "outputs": [],
   "source": [
    "display(image)\n",
    "display(widgets.HBox([count, button]))"
   ]
  },
  {
   "cell_type": "code",
   "execution_count": null,
   "id": "1fcf0aee-e956-4d62-b1d8-c6b42708c581",
   "metadata": {},
   "outputs": [],
   "source": [
    "camera.stop()"
   ]
  },
  {
   "cell_type": "code",
   "execution_count": null,
   "id": "51552a8c-0b0c-4508-a442-0a24f448050d",
   "metadata": {},
   "outputs": [],
   "source": [
    "!zip -r -q dataset.zip dataset"
   ]
  }
 ],
 "metadata": {
  "kernelspec": {
   "display_name": "Python 3 (ipykernel)",
   "language": "python",
   "name": "python3"
  },
  "language_info": {
   "codemirror_mode": {
    "name": "ipython",
    "version": 3
   },
   "file_extension": ".py",
   "mimetype": "text/x-python",
   "name": "python",
   "nbconvert_exporter": "python",
   "pygments_lexer": "ipython3",
   "version": "3.11.3"
  }
 },
 "nbformat": 4,
 "nbformat_minor": 5
}
